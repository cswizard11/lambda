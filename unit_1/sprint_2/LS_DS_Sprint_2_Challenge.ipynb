{
  "nbformat": 4,
  "nbformat_minor": 0,
  "metadata": {
    "colab": {
      "name": "LS_DS_Sprint_2_Challenge.ipynb",
      "provenance": [],
      "collapsed_sections": []
    },
    "kernelspec": {
      "name": "python3",
      "display_name": "Python 3"
    }
  },
  "cells": [
    {
      "cell_type": "markdown",
      "metadata": {
        "id": "838Dmw1kM2LK"
      },
      "source": [
        "# Sprint 2 Challenge\n",
        "\n",
        "### Dataset description: \n",
        "\n",
        "Anyone who is a fan of detective TV shows has watched a scene where human remains are discovered and some sort of expert is called in to determine when the person died. But is this science fiction or science fact? Is it possible to use evidence from skeletal remains to determine how long a body has been buried (a decent approximation of how long the person has been dead)? \n",
        "\n",
        "Researchers sampled long bone material from bodies exhumed from coffin burials in two cemeteries in England. In each case, date of death and burial (and therefore interment time) was known. This data is given in the Longbones.csv dataset. \n",
        "\n",
        "You can find Longbones.csv here: https://raw.githubusercontent.com/Chelsea-Myers/Lambda-Intro/master/Longbones.csv\n",
        "\n",
        "**What can we learn about the bodies that were buried in the cemetery?**\n",
        "\n",
        "The variable names are:\n",
        "\n",
        "Site = Site ID, either Site 1 or Site 2\n",
        "\n",
        "Time = Interrment time in years\n",
        "\n",
        "Depth = Burial depth in ft.\n",
        "\n",
        "Lime = Burial with Quiklime (0 = No, 1 = Yes)\n",
        "\n",
        "Age = Age at time of death in years\n",
        "\n",
        "Nitro = Nitrogen composition of the long bones in g per 100g of bone.\n",
        "\n",
        "Oil = Oil contamination of the grave site (0 = No contamination, 1 = Oil contamination)\n",
        "\n",
        "Source: D.R. Jarvis (1997). \"Nitrogen Levels in Long Bones from Coffin Burials Interred for Periods of 26-90 Years,\" Forensic Science International, Vol85, pp199-208"
      ]
    },
    {
      "cell_type": "markdown",
      "metadata": {
        "id": "3hi4kQm1XhlO"
      },
      "source": [
        "###1) Import the data \n",
        "\n",
        "Import the Longbones.csv file and print the first 5 rows."
      ]
    },
    {
      "cell_type": "code",
      "metadata": {
        "id": "4lBeDadzeHKy"
      },
      "source": [
        "#Import the dataset\n",
        "\n",
        "import pandas as pd\n",
        "import numpy as np\n",
        "\n",
        "\n",
        "data_url = 'https://raw.githubusercontent.com/Chelsea-Myers/Lambda-Intro/master/Longbones.csv'\n",
        "\n",
        "df = pd.read_csv(data_url, skipinitialspace=True, header=0)\n",
        "\n"
      ],
      "execution_count": 1,
      "outputs": []
    },
    {
      "cell_type": "code",
      "metadata": {
        "id": "erthjvyReHap",
        "outputId": "999170ec-8b1a-4cab-ddc8-7ac3af3a7730",
        "colab": {
          "base_uri": "https://localhost:8080/",
          "height": 191
        }
      },
      "source": [
        "### YOUR CODE HERE ###\n",
        "df.head()"
      ],
      "execution_count": 2,
      "outputs": [
        {
          "output_type": "execute_result",
          "data": {
            "text/html": [
              "<div>\n",
              "<style scoped>\n",
              "    .dataframe tbody tr th:only-of-type {\n",
              "        vertical-align: middle;\n",
              "    }\n",
              "\n",
              "    .dataframe tbody tr th {\n",
              "        vertical-align: top;\n",
              "    }\n",
              "\n",
              "    .dataframe thead th {\n",
              "        text-align: right;\n",
              "    }\n",
              "</style>\n",
              "<table border=\"1\" class=\"dataframe\">\n",
              "  <thead>\n",
              "    <tr style=\"text-align: right;\">\n",
              "      <th></th>\n",
              "      <th>Site</th>\n",
              "      <th>Time</th>\n",
              "      <th>Depth</th>\n",
              "      <th>Lime</th>\n",
              "      <th>Age</th>\n",
              "      <th>Nitro</th>\n",
              "      <th>Oil</th>\n",
              "    </tr>\n",
              "  </thead>\n",
              "  <tbody>\n",
              "    <tr>\n",
              "      <th>0</th>\n",
              "      <td>1</td>\n",
              "      <td>88.5</td>\n",
              "      <td>7.0</td>\n",
              "      <td>1</td>\n",
              "      <td>NaN</td>\n",
              "      <td>3.88</td>\n",
              "      <td>1</td>\n",
              "    </tr>\n",
              "    <tr>\n",
              "      <th>1</th>\n",
              "      <td>1</td>\n",
              "      <td>88.5</td>\n",
              "      <td>NaN</td>\n",
              "      <td>1</td>\n",
              "      <td>NaN</td>\n",
              "      <td>4.00</td>\n",
              "      <td>1</td>\n",
              "    </tr>\n",
              "    <tr>\n",
              "      <th>2</th>\n",
              "      <td>1</td>\n",
              "      <td>85.2</td>\n",
              "      <td>7.0</td>\n",
              "      <td>1</td>\n",
              "      <td>NaN</td>\n",
              "      <td>3.69</td>\n",
              "      <td>1</td>\n",
              "    </tr>\n",
              "    <tr>\n",
              "      <th>3</th>\n",
              "      <td>1</td>\n",
              "      <td>71.8</td>\n",
              "      <td>7.6</td>\n",
              "      <td>1</td>\n",
              "      <td>65.0</td>\n",
              "      <td>3.88</td>\n",
              "      <td>0</td>\n",
              "    </tr>\n",
              "    <tr>\n",
              "      <th>4</th>\n",
              "      <td>1</td>\n",
              "      <td>70.6</td>\n",
              "      <td>7.5</td>\n",
              "      <td>1</td>\n",
              "      <td>42.0</td>\n",
              "      <td>3.53</td>\n",
              "      <td>0</td>\n",
              "    </tr>\n",
              "  </tbody>\n",
              "</table>\n",
              "</div>"
            ],
            "text/plain": [
              "   Site  Time  Depth  Lime   Age  Nitro  Oil\n",
              "0     1  88.5    7.0     1   NaN   3.88    1\n",
              "1     1  88.5    NaN     1   NaN   4.00    1\n",
              "2     1  85.2    7.0     1   NaN   3.69    1\n",
              "3     1  71.8    7.6     1  65.0   3.88    0\n",
              "4     1  70.6    7.5     1  42.0   3.53    0"
            ]
          },
          "metadata": {
            "tags": []
          },
          "execution_count": 2
        }
      ]
    },
    {
      "cell_type": "markdown",
      "metadata": {
        "id": "NKsOOVvoeLUR"
      },
      "source": [
        "###2) Check for missing data.\n",
        "\n",
        "Is there any missing data in the dataset?  If so, in what variable(s)?  "
      ]
    },
    {
      "cell_type": "code",
      "metadata": {
        "id": "-xCpxeU7xXFV",
        "outputId": "9feaf722-2734-408d-b90c-8bd6a898bf24",
        "colab": {
          "base_uri": "https://localhost:8080/",
          "height": 156
        }
      },
      "source": [
        "### YOUR CODE HERE ###\n",
        "df.isnull().sum()"
      ],
      "execution_count": 5,
      "outputs": [
        {
          "output_type": "execute_result",
          "data": {
            "text/plain": [
              "Site     0\n",
              "Time     0\n",
              "Depth    1\n",
              "Lime     0\n",
              "Age      7\n",
              "Nitro    0\n",
              "Oil      0\n",
              "dtype: int64"
            ]
          },
          "metadata": {
            "tags": []
          },
          "execution_count": 5
        }
      ]
    },
    {
      "cell_type": "markdown",
      "metadata": {
        "id": "qeVwTYT_eZhI"
      },
      "source": [
        "1 depth value and 7 age values are missing."
      ]
    },
    {
      "cell_type": "markdown",
      "metadata": {
        "id": "maUUy0b-efKn"
      },
      "source": [
        "### 3) Remove any rows with missing data from the dataset.  If there is no missing data, write \"No missing data\" in the answer section below."
      ]
    },
    {
      "cell_type": "code",
      "metadata": {
        "id": "iWxyaYvUxfcn",
        "outputId": "016a3c6d-c312-496f-d8bf-c71642235593",
        "colab": {
          "base_uri": "https://localhost:8080/",
          "height": 156
        }
      },
      "source": [
        "### YOUR CODE HERE ###\n",
        "df = df.dropna()\n",
        "df.isnull().sum()"
      ],
      "execution_count": 8,
      "outputs": [
        {
          "output_type": "execute_result",
          "data": {
            "text/plain": [
              "Site     0\n",
              "Time     0\n",
              "Depth    0\n",
              "Lime     0\n",
              "Age      0\n",
              "Nitro    0\n",
              "Oil      0\n",
              "dtype: int64"
            ]
          },
          "metadata": {
            "tags": []
          },
          "execution_count": 8
        }
      ]
    },
    {
      "cell_type": "markdown",
      "metadata": {
        "id": "FiwnkZHjg6Br"
      },
      "source": [
        "If there are no NA's, indicate that here. "
      ]
    },
    {
      "cell_type": "markdown",
      "metadata": {
        "id": "DCu_DnqzfZCi"
      },
      "source": [
        "#Use the following information to answer questions 4) - 7) \n",
        "\n",
        "The mean nitrogen compostion in living individuals is 4.3g per 100g of bone.  \n",
        "\n",
        "We wish to use the Longbones sample to test the null hypothesis that the mean nitrogen composition per 100g of bone in the deceased is 4.3g (equal to that of living humans) vs the alternative hypothesis that the mean nitrogen composition per 100g of bone in the deceased is not 4.3g (not equal to that of living humans). \n",
        "\n"
      ]
    },
    {
      "cell_type": "markdown",
      "metadata": {
        "id": "TvZZhLlSjehS"
      },
      "source": [
        "###4) Using symbols and statistical language, write the null and alternative hypotheses outlined above."
      ]
    },
    {
      "cell_type": "markdown",
      "metadata": {
        "id": "qt0ug6daj96v"
      },
      "source": [
        "$H_0: \\mu =$ 4.3\n",
        "\n",
        "$H_a: \\mu \\neq$ 4.3"
      ]
    },
    {
      "cell_type": "markdown",
      "metadata": {
        "id": "xG44zc__kCte"
      },
      "source": [
        "###5) What is the appropriate test for these hypotheses?  A t-test or a chi-square test?  Explain your answer in a sentence or two."
      ]
    },
    {
      "cell_type": "markdown",
      "metadata": {
        "id": "IbGjw2LlkQjx"
      },
      "source": [
        "A t-test would be the correct test to use, as it can be used to compare the mean of a sample to a population mean."
      ]
    },
    {
      "cell_type": "markdown",
      "metadata": {
        "id": "9KnID825kQ-E"
      },
      "source": [
        "###6) Use a built-in Python function to conduct the statistical test you identified in 5).  Report your p-value.  Write the conclusion to your hypothesis test at the alpha = 0.05 significance level."
      ]
    },
    {
      "cell_type": "code",
      "metadata": {
        "id": "l7kbcK8RxqV0",
        "outputId": "90df9656-69d1-4983-a9b5-ba639ffe4a0c",
        "colab": {
          "base_uri": "https://localhost:8080/",
          "height": 34
        }
      },
      "source": [
        "### YOUR CODE HERE ###\n",
        "from scipy import stats\n",
        "\n",
        "nitro_pval = stats.ttest_1samp(df['Nitro'], 4.3)\n",
        "\n",
        "print(nitro_pval)"
      ],
      "execution_count": 11,
      "outputs": [
        {
          "output_type": "stream",
          "text": [
            "Ttest_1sampResult(statistic=-16.525765821830365, pvalue=8.097649978903554e-18)\n"
          ],
          "name": "stdout"
        }
      ]
    },
    {
      "cell_type": "markdown",
      "metadata": {
        "id": "sBW2ug1hkxdy"
      },
      "source": [
        "Since the p value of 8.1x10^-18 < 0.05, we can reject the null hypothesis, and conclude that the mean nitrogen composition per 100g of bone in the deceased is not equal to that of living humans."
      ]
    },
    {
      "cell_type": "markdown",
      "metadata": {
        "id": "MsxjHEbRrQBZ"
      },
      "source": [
        "###7) Create a 95% confidence interval for the mean nitrogen compostion in the longbones of a deceased individual.  Interpret your confidence interval in a sentence or two."
      ]
    },
    {
      "cell_type": "code",
      "metadata": {
        "id": "atFLEgciP15T",
        "outputId": "25a81f82-693f-4336-9d53-4a475ad653cc",
        "colab": {
          "base_uri": "https://localhost:8080/",
          "height": 34
        }
      },
      "source": [
        "### YOUR CODE HERE ###\n",
        "from scipy.stats import t\n",
        "\n",
        "nitro_mean = df['Nitro'].mean()\n",
        "nitro_std = df['Nitro'].std()\n",
        "nitro_n = df['Nitro'].count()\n",
        "nitro_se = nitro_std / nitro_n ** (1/2)\n",
        "\n",
        "nitro_cl = t.interval(alpha=0.95, df=nitro_n - 1, loc=nitro_mean, scale=nitro_se)\n",
        "print(nitro_cl)"
      ],
      "execution_count": 14,
      "outputs": [
        {
          "output_type": "stream",
          "text": [
            "(3.734020952024922, 3.8579790479750784)\n"
          ],
          "name": "stdout"
        }
      ]
    },
    {
      "cell_type": "markdown",
      "metadata": {
        "id": "m2ixBzDhP15X"
      },
      "source": [
        "We are 95% confident that the population mean nitrogen composition in the longbones of a deceased individual is between 3.73g and 3.86g per 100g of bone."
      ]
    },
    {
      "cell_type": "markdown",
      "metadata": {
        "id": "KYpQ60qPfSpq"
      },
      "source": [
        "#Use the following information to answer questions 8) - 12) \n"
      ]
    },
    {
      "cell_type": "markdown",
      "metadata": {
        "id": "wXnTAE6zlKnN"
      },
      "source": [
        "The researchers also want to learn more about burial practices in the parts of England where the two cemetaries in the study were located.  They wish to determine if burials with Quicklime are associated with the burial region.  \n",
        "\n",
        "Their null hypothesis is that there is no association between cemetery site and burial with Quicklime.  The alternative hypothesis is that there is an association between cemetery site and burial with Quicklime.\n",
        "\n"
      ]
    },
    {
      "cell_type": "markdown",
      "metadata": {
        "id": "Nrh9-WJCnfi-"
      },
      "source": [
        "###8) Calculate the joint distribution of burial with Quicklime by burial site."
      ]
    },
    {
      "cell_type": "code",
      "metadata": {
        "id": "G6N_fzPXyF1J",
        "outputId": "6b031de5-5db1-4702-d2af-84b364fe839a",
        "colab": {
          "base_uri": "https://localhost:8080/",
          "height": 162
        }
      },
      "source": [
        "### YOUR CODE HERE ###\n",
        "burial_ql_joint = pd.crosstab(df['Lime'], df['Site'], margins=True)\n",
        "burial_ql_joint"
      ],
      "execution_count": 16,
      "outputs": [
        {
          "output_type": "execute_result",
          "data": {
            "text/html": [
              "<div>\n",
              "<style scoped>\n",
              "    .dataframe tbody tr th:only-of-type {\n",
              "        vertical-align: middle;\n",
              "    }\n",
              "\n",
              "    .dataframe tbody tr th {\n",
              "        vertical-align: top;\n",
              "    }\n",
              "\n",
              "    .dataframe thead th {\n",
              "        text-align: right;\n",
              "    }\n",
              "</style>\n",
              "<table border=\"1\" class=\"dataframe\">\n",
              "  <thead>\n",
              "    <tr style=\"text-align: right;\">\n",
              "      <th>Site</th>\n",
              "      <th>1</th>\n",
              "      <th>2</th>\n",
              "      <th>All</th>\n",
              "    </tr>\n",
              "    <tr>\n",
              "      <th>Lime</th>\n",
              "      <th></th>\n",
              "      <th></th>\n",
              "      <th></th>\n",
              "    </tr>\n",
              "  </thead>\n",
              "  <tbody>\n",
              "    <tr>\n",
              "      <th>0</th>\n",
              "      <td>14</td>\n",
              "      <td>9</td>\n",
              "      <td>23</td>\n",
              "    </tr>\n",
              "    <tr>\n",
              "      <th>1</th>\n",
              "      <td>5</td>\n",
              "      <td>7</td>\n",
              "      <td>12</td>\n",
              "    </tr>\n",
              "    <tr>\n",
              "      <th>All</th>\n",
              "      <td>19</td>\n",
              "      <td>16</td>\n",
              "      <td>35</td>\n",
              "    </tr>\n",
              "  </tbody>\n",
              "</table>\n",
              "</div>"
            ],
            "text/plain": [
              "Site   1   2  All\n",
              "Lime             \n",
              "0     14   9   23\n",
              "1      5   7   12\n",
              "All   19  16   35"
            ]
          },
          "metadata": {
            "tags": []
          },
          "execution_count": 16
        }
      ]
    },
    {
      "cell_type": "markdown",
      "metadata": {
        "id": "tdESH5FcnvsR"
      },
      "source": [
        "###9) Calculate the conditional distribution of burial with Quicklime by burial site."
      ]
    },
    {
      "cell_type": "code",
      "metadata": {
        "id": "QkiPyt5ByJ7V",
        "outputId": "41faa7b2-0208-4ea8-d32d-576656f3dfd1",
        "colab": {
          "base_uri": "https://localhost:8080/",
          "height": 133
        }
      },
      "source": [
        "### YOUR CODE HERE ###\n",
        "burial_ql_conditional = pd.crosstab(df['Lime'], df['Site'], normalize='index')*100\n",
        "burial_ql_conditional"
      ],
      "execution_count": 18,
      "outputs": [
        {
          "output_type": "execute_result",
          "data": {
            "text/html": [
              "<div>\n",
              "<style scoped>\n",
              "    .dataframe tbody tr th:only-of-type {\n",
              "        vertical-align: middle;\n",
              "    }\n",
              "\n",
              "    .dataframe tbody tr th {\n",
              "        vertical-align: top;\n",
              "    }\n",
              "\n",
              "    .dataframe thead th {\n",
              "        text-align: right;\n",
              "    }\n",
              "</style>\n",
              "<table border=\"1\" class=\"dataframe\">\n",
              "  <thead>\n",
              "    <tr style=\"text-align: right;\">\n",
              "      <th>Site</th>\n",
              "      <th>1</th>\n",
              "      <th>2</th>\n",
              "    </tr>\n",
              "    <tr>\n",
              "      <th>Lime</th>\n",
              "      <th></th>\n",
              "      <th></th>\n",
              "    </tr>\n",
              "  </thead>\n",
              "  <tbody>\n",
              "    <tr>\n",
              "      <th>0</th>\n",
              "      <td>60.869565</td>\n",
              "      <td>39.130435</td>\n",
              "    </tr>\n",
              "    <tr>\n",
              "      <th>1</th>\n",
              "      <td>41.666667</td>\n",
              "      <td>58.333333</td>\n",
              "    </tr>\n",
              "  </tbody>\n",
              "</table>\n",
              "</div>"
            ],
            "text/plain": [
              "Site          1          2\n",
              "Lime                      \n",
              "0     60.869565  39.130435\n",
              "1     41.666667  58.333333"
            ]
          },
          "metadata": {
            "tags": []
          },
          "execution_count": 18
        }
      ]
    },
    {
      "cell_type": "markdown",
      "metadata": {
        "id": "qGCgkD_KoM9e"
      },
      "source": [
        "###10) What is the appropriate test for the hypotheses listed above?  A t-test or a chi-square test?  Explain your answer in a sentence or two."
      ]
    },
    {
      "cell_type": "markdown",
      "metadata": {
        "id": "-5fEpmowoQbs"
      },
      "source": [
        "A chi-square test would be the correct test to use, as it calculates if there is a relationship between 2 categorical variables."
      ]
    },
    {
      "cell_type": "markdown",
      "metadata": {
        "id": "G2rwievuoTiy"
      },
      "source": [
        "###11) Conducte your hypothesis test and report your conclusion at the alpha = 0.05 significance level."
      ]
    },
    {
      "cell_type": "code",
      "metadata": {
        "id": "vQemmXEwyRRt",
        "outputId": "58247dc4-e8b2-4ea1-af8a-9d80cbe54d39",
        "colab": {
          "base_uri": "https://localhost:8080/",
          "height": 34
        }
      },
      "source": [
        "### YOUR CODE HERE ###\n",
        "from scipy.stats import chi2_contingency\n",
        "\n",
        "g, p_val, dof, expctd = chi2_contingency(pd.crosstab(df['Lime'], df['Site']))\n",
        "\n",
        "print(p_val)"
      ],
      "execution_count": 21,
      "outputs": [
        {
          "output_type": "stream",
          "text": [
            "0.4684181967877057\n"
          ],
          "name": "stdout"
        }
      ]
    },
    {
      "cell_type": "markdown",
      "metadata": {
        "id": "IoSAVaYRodPs"
      },
      "source": [
        "Since the p value of 0.468 > 0.05, we fail to reject the null hypothesis that there is no association between cemetery site and burial with Quicklime."
      ]
    },
    {
      "cell_type": "markdown",
      "metadata": {
        "id": "vdzV0Sd-SAYP"
      },
      "source": [
        "###12) Conducte your hypothesis test and report your conclusion at the alpha = 0.05 significance level."
      ]
    },
    {
      "cell_type": "code",
      "metadata": {
        "id": "XJkwX2P3SEds",
        "outputId": "a2f75e2d-6a48-4d02-9971-d30d2e5d8141",
        "colab": {
          "base_uri": "https://localhost:8080/",
          "height": 34
        }
      },
      "source": [
        "### YOUR CODE HERE ###\n",
        "g, p_val, dof, expctd = chi2_contingency(pd.crosstab(df['Lime'], df['Site']))\n",
        "\n",
        "print(p_val)"
      ],
      "execution_count": 22,
      "outputs": [
        {
          "output_type": "stream",
          "text": [
            "0.4684181967877057\n"
          ],
          "name": "stdout"
        }
      ]
    },
    {
      "cell_type": "markdown",
      "metadata": {
        "id": "OytU0QcdxBNF"
      },
      "source": [
        "Since the p value of 0.468 > 0.05, we fail to reject the null hypothesis that there is no association between cemetery site and burial with Quicklime."
      ]
    },
    {
      "cell_type": "markdown",
      "metadata": {
        "id": "VPejVZDsF84m"
      },
      "source": [
        "###13) In a few sentences, describe the difference between Bayesian and Frequentist statistics."
      ]
    },
    {
      "cell_type": "markdown",
      "metadata": {
        "id": "88qgSn96xYkU"
      },
      "source": [
        "Frequentist statistics looks purely at data to make conclusions, while Bayesian statistics uses data and current beliefs about about that data to inform the calculation."
      ]
    }
  ]
}