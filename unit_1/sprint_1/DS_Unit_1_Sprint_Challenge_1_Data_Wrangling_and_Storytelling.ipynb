{
 "cells": [
  {
   "cell_type": "markdown",
   "metadata": {
    "id": "2kYJKHpXFbN2"
   },
   "source": [
    "# Data Science Unit 1 Sprint Challenge 1\n",
    "\n",
    "## Data Wrangling and Storytelling\n",
    "\n",
    "Taming data from its raw form into informative insights and stories."
   ]
  },
  {
   "cell_type": "markdown",
   "metadata": {
    "id": "qSvL3CeTFk9F"
   },
   "source": [
    "## Data Wrangling\n",
    "\n",
    "In this Sprint Challenge you will first \"wrangle\" some data from [Gapminder](https://www.gapminder.org/about-gapminder/), a Swedish non-profit co-founded by Hans Rosling. \"Gapminder produces free teaching resources making the world understandable based on reliable statistics.\"\n",
    "- [Cell phones (total), by country and year](https://raw.githubusercontent.com/open-numbers/ddf--gapminder--systema_globalis/master/countries-etc-datapoints/ddf--datapoints--cell_phones_total--by--geo--time.csv)\n",
    "- [Population (total), by country and year](https://raw.githubusercontent.com/open-numbers/ddf--gapminder--systema_globalis/master/countries-etc-datapoints/ddf--datapoints--population_total--by--geo--time.csv)\n",
    "- [Geo country codes](https://github.com/open-numbers/ddf--gapminder--systema_globalis/blob/master/ddf--entities--geo--country.csv)\n",
    "\n",
    "These two links have everything you need to successfully complete the first part of this sprint challenge.\n",
    "- [Pandas documentation: Working with Text Data](https://pandas.pydata.org/pandas-docs/stable/text.html) (one question)\n",
    "- [Pandas Cheat Sheet](https://github.com/pandas-dev/pandas/blob/master/doc/cheatsheet/Pandas_Cheat_Sheet.pdf) (everything else)"
   ]
  },
  {
   "cell_type": "markdown",
   "metadata": {
    "id": "_45iUXguF3cJ"
   },
   "source": [
    "### Part 1 - Load and Explore the Data\n",
    "\n",
    "Run the cell below to load the datasets into three dataframes and then follow the instructions below\n"
   ]
  },
  {
   "cell_type": "code",
   "execution_count": 19,
   "metadata": {
    "id": "4OuxHNZzFpGT"
   },
   "outputs": [],
   "source": [
    "import pandas as pd \n",
    "\n",
    "cell_phones = pd.read_csv('https://raw.githubusercontent.com/open-numbers/ddf--gapminder--systema_globalis/master/countries-etc-datapoints/ddf--datapoints--cell_phones_total--by--geo--time.csv')\n",
    "\n",
    "population = pd.read_csv('https://raw.githubusercontent.com/open-numbers/ddf--gapminder--systema_globalis/master/countries-etc-datapoints/ddf--datapoints--population_total--by--geo--time.csv')\n",
    "\n",
    "geo_country_codes = (pd.read_csv('https://raw.githubusercontent.com/open-numbers/ddf--gapminder--systema_globalis/master/ddf--entities--geo--country.csv')\n",
    "                       .rename(columns={'country': 'geo', 'name': 'country'}))"
   ]
  },
  {
   "cell_type": "markdown",
   "metadata": {
    "id": "49XlFKmVIPl1"
   },
   "source": [
    "Check for missing/null values in the three dataframes"
   ]
  },
  {
   "cell_type": "code",
   "execution_count": 20,
   "metadata": {
    "colab": {
     "base_uri": "https://localhost:8080/",
     "height": 86
    },
    "id": "SwmSvUySJjXc",
    "outputId": "42f2b6a0-1067-4f33-ee24-4297efd3777c"
   },
   "outputs": [
    {
     "data": {
      "text/plain": [
       "geo                  0\n",
       "time                 0\n",
       "cell_phones_total    0\n",
       "dtype: int64"
      ]
     },
     "execution_count": 20,
     "metadata": {
      "tags": []
     },
     "output_type": "execute_result"
    }
   ],
   "source": [
    "### YOUR CODE HERE ###\n",
    "cell_phones.isnull().sum()"
   ]
  },
  {
   "cell_type": "code",
   "execution_count": 21,
   "metadata": {
    "colab": {
     "base_uri": "https://localhost:8080/",
     "height": 86
    },
    "id": "O41UVa6buwTC",
    "outputId": "4fa5ed51-4da0-4271-8366-9f1fb3792156"
   },
   "outputs": [
    {
     "data": {
      "text/plain": [
       "geo                 0\n",
       "time                0\n",
       "population_total    0\n",
       "dtype: int64"
      ]
     },
     "execution_count": 21,
     "metadata": {
      "tags": []
     },
     "output_type": "execute_result"
    }
   ],
   "source": [
    "### YOUR CODE HERE ###\n",
    "population.isnull().sum()"
   ]
  },
  {
   "cell_type": "code",
   "execution_count": 22,
   "metadata": {
    "colab": {
     "base_uri": "https://localhost:8080/",
     "height": 402
    },
    "id": "Ybe41t4ruwbl",
    "outputId": "e86f40ab-1b37-423d-9e65-da3623abd7d8"
   },
   "outputs": [
    {
     "data": {
      "text/plain": [
       "geo                       0\n",
       "g77_and_oecd_countries    0\n",
       "income_3groups            0\n",
       "income_groups             0\n",
       "is--country               0\n",
       "iso3166_1_alpha2          0\n",
       "iso3166_1_alpha3          0\n",
       "iso3166_1_numeric         0\n",
       "iso3166_2                 0\n",
       "landlocked                0\n",
       "latitude                  0\n",
       "longitude                 0\n",
       "main_religion_2008        0\n",
       "country                   0\n",
       "un_sdg_ldc                0\n",
       "un_sdg_region             0\n",
       "un_state                  0\n",
       "unicef_region             0\n",
       "unicode_region_subtag     0\n",
       "world_4region             0\n",
       "world_6region             0\n",
       "dtype: int64"
      ]
     },
     "execution_count": 22,
     "metadata": {
      "tags": []
     },
     "output_type": "execute_result"
    }
   ],
   "source": [
    "### YOUR CODE HERE ###\n",
    "geo_country_codes.isnull().sum()\n",
    "geo_country_codes_clean = geo_country_codes.dropna()\n",
    "geo_country_codes_clean.isnull().sum()"
   ]
  },
  {
   "cell_type": "markdown",
   "metadata": {
    "id": "IvJMtxmBI27k"
   },
   "source": [
    "### Part 2 - Merge data\n",
    "\n",
    "First, merge the `cell_phones` and `population` dataframes (with an inner merge on `geo` and `time`).\n",
    "\n",
    "The resulting dataframe's shape should be: (8786, 4)"
   ]
  },
  {
   "cell_type": "code",
   "execution_count": 23,
   "metadata": {
    "colab": {
     "base_uri": "https://localhost:8080/",
     "height": 393
    },
    "id": "ibZNDG6eu2G5",
    "outputId": "e57a5ffa-ddf8-4019-bbd7-eff2c18ceaf6"
   },
   "outputs": [
    {
     "data": {
      "text/html": [
       "<div>\n",
       "<style scoped>\n",
       "    .dataframe tbody tr th:only-of-type {\n",
       "        vertical-align: middle;\n",
       "    }\n",
       "\n",
       "    .dataframe tbody tr th {\n",
       "        vertical-align: top;\n",
       "    }\n",
       "\n",
       "    .dataframe thead th {\n",
       "        text-align: right;\n",
       "    }\n",
       "</style>\n",
       "<table border=\"1\" class=\"dataframe\">\n",
       "  <thead>\n",
       "    <tr style=\"text-align: right;\">\n",
       "      <th></th>\n",
       "      <th>geo</th>\n",
       "      <th>time</th>\n",
       "      <th>cell_phones_total</th>\n",
       "      <th>population_total</th>\n",
       "    </tr>\n",
       "  </thead>\n",
       "  <tbody>\n",
       "    <tr>\n",
       "      <th>0</th>\n",
       "      <td>afg</td>\n",
       "      <td>1960</td>\n",
       "      <td>0.0</td>\n",
       "      <td>8996967</td>\n",
       "    </tr>\n",
       "    <tr>\n",
       "      <th>1</th>\n",
       "      <td>afg</td>\n",
       "      <td>1965</td>\n",
       "      <td>0.0</td>\n",
       "      <td>9956318</td>\n",
       "    </tr>\n",
       "    <tr>\n",
       "      <th>2</th>\n",
       "      <td>afg</td>\n",
       "      <td>1970</td>\n",
       "      <td>0.0</td>\n",
       "      <td>11173654</td>\n",
       "    </tr>\n",
       "    <tr>\n",
       "      <th>3</th>\n",
       "      <td>afg</td>\n",
       "      <td>1975</td>\n",
       "      <td>0.0</td>\n",
       "      <td>12689164</td>\n",
       "    </tr>\n",
       "    <tr>\n",
       "      <th>4</th>\n",
       "      <td>afg</td>\n",
       "      <td>1976</td>\n",
       "      <td>0.0</td>\n",
       "      <td>12943093</td>\n",
       "    </tr>\n",
       "    <tr>\n",
       "      <th>...</th>\n",
       "      <td>...</td>\n",
       "      <td>...</td>\n",
       "      <td>...</td>\n",
       "      <td>...</td>\n",
       "    </tr>\n",
       "    <tr>\n",
       "      <th>8781</th>\n",
       "      <td>zwe</td>\n",
       "      <td>2014</td>\n",
       "      <td>11798652.0</td>\n",
       "      <td>13586710</td>\n",
       "    </tr>\n",
       "    <tr>\n",
       "      <th>8782</th>\n",
       "      <td>zwe</td>\n",
       "      <td>2015</td>\n",
       "      <td>12757410.0</td>\n",
       "      <td>13814642</td>\n",
       "    </tr>\n",
       "    <tr>\n",
       "      <th>8783</th>\n",
       "      <td>zwe</td>\n",
       "      <td>2016</td>\n",
       "      <td>12878926.0</td>\n",
       "      <td>14030338</td>\n",
       "    </tr>\n",
       "    <tr>\n",
       "      <th>8784</th>\n",
       "      <td>zwe</td>\n",
       "      <td>2017</td>\n",
       "      <td>14092104.0</td>\n",
       "      <td>14236599</td>\n",
       "    </tr>\n",
       "    <tr>\n",
       "      <th>8785</th>\n",
       "      <td>zwe</td>\n",
       "      <td>2018</td>\n",
       "      <td>12908992.0</td>\n",
       "      <td>14438812</td>\n",
       "    </tr>\n",
       "  </tbody>\n",
       "</table>\n",
       "<p>8786 rows × 4 columns</p>\n",
       "</div>"
      ],
      "text/plain": [
       "      geo  time  cell_phones_total  population_total\n",
       "0     afg  1960                0.0           8996967\n",
       "1     afg  1965                0.0           9956318\n",
       "2     afg  1970                0.0          11173654\n",
       "3     afg  1975                0.0          12689164\n",
       "4     afg  1976                0.0          12943093\n",
       "...   ...   ...                ...               ...\n",
       "8781  zwe  2014         11798652.0          13586710\n",
       "8782  zwe  2015         12757410.0          13814642\n",
       "8783  zwe  2016         12878926.0          14030338\n",
       "8784  zwe  2017         14092104.0          14236599\n",
       "8785  zwe  2018         12908992.0          14438812\n",
       "\n",
       "[8786 rows x 4 columns]"
      ]
     },
     "execution_count": 23,
     "metadata": {
      "tags": []
     },
     "output_type": "execute_result"
    }
   ],
   "source": [
    "### YOUR CODE HERE ###\n",
    "cell_population = pd.merge(cell_phones, population, how='inner', on=['geo','time'])\n",
    "cell_population"
   ]
  },
  {
   "cell_type": "markdown",
   "metadata": {
    "id": "lziNWF2eJZwC"
   },
   "source": [
    "Then, select only the `geo` and `country` columns from the `geo_country_codes` dataframe, and merge with your population and cell phone data.\n",
    "\n",
    "The resulting dataframe's shape should be: (8786, 5)"
   ]
  },
  {
   "cell_type": "code",
   "execution_count": 24,
   "metadata": {
    "colab": {
     "base_uri": "https://localhost:8080/",
     "height": 393
    },
    "id": "KdjxZ61wu4dz",
    "outputId": "a2f2d0d5-e779-4c6a-c037-cef518bf273e"
   },
   "outputs": [
    {
     "data": {
      "text/html": [
       "<div>\n",
       "<style scoped>\n",
       "    .dataframe tbody tr th:only-of-type {\n",
       "        vertical-align: middle;\n",
       "    }\n",
       "\n",
       "    .dataframe tbody tr th {\n",
       "        vertical-align: top;\n",
       "    }\n",
       "\n",
       "    .dataframe thead th {\n",
       "        text-align: right;\n",
       "    }\n",
       "</style>\n",
       "<table border=\"1\" class=\"dataframe\">\n",
       "  <thead>\n",
       "    <tr style=\"text-align: right;\">\n",
       "      <th></th>\n",
       "      <th>geo</th>\n",
       "      <th>country</th>\n",
       "      <th>time</th>\n",
       "      <th>cell_phones_total</th>\n",
       "      <th>population_total</th>\n",
       "    </tr>\n",
       "  </thead>\n",
       "  <tbody>\n",
       "    <tr>\n",
       "      <th>0</th>\n",
       "      <td>afg</td>\n",
       "      <td>Afghanistan</td>\n",
       "      <td>1960</td>\n",
       "      <td>0.0</td>\n",
       "      <td>8996967</td>\n",
       "    </tr>\n",
       "    <tr>\n",
       "      <th>1</th>\n",
       "      <td>afg</td>\n",
       "      <td>Afghanistan</td>\n",
       "      <td>1965</td>\n",
       "      <td>0.0</td>\n",
       "      <td>9956318</td>\n",
       "    </tr>\n",
       "    <tr>\n",
       "      <th>2</th>\n",
       "      <td>afg</td>\n",
       "      <td>Afghanistan</td>\n",
       "      <td>1970</td>\n",
       "      <td>0.0</td>\n",
       "      <td>11173654</td>\n",
       "    </tr>\n",
       "    <tr>\n",
       "      <th>3</th>\n",
       "      <td>afg</td>\n",
       "      <td>Afghanistan</td>\n",
       "      <td>1975</td>\n",
       "      <td>0.0</td>\n",
       "      <td>12689164</td>\n",
       "    </tr>\n",
       "    <tr>\n",
       "      <th>4</th>\n",
       "      <td>afg</td>\n",
       "      <td>Afghanistan</td>\n",
       "      <td>1976</td>\n",
       "      <td>0.0</td>\n",
       "      <td>12943093</td>\n",
       "    </tr>\n",
       "    <tr>\n",
       "      <th>...</th>\n",
       "      <td>...</td>\n",
       "      <td>...</td>\n",
       "      <td>...</td>\n",
       "      <td>...</td>\n",
       "      <td>...</td>\n",
       "    </tr>\n",
       "    <tr>\n",
       "      <th>8781</th>\n",
       "      <td>zwe</td>\n",
       "      <td>Zimbabwe</td>\n",
       "      <td>2014</td>\n",
       "      <td>11798652.0</td>\n",
       "      <td>13586710</td>\n",
       "    </tr>\n",
       "    <tr>\n",
       "      <th>8782</th>\n",
       "      <td>zwe</td>\n",
       "      <td>Zimbabwe</td>\n",
       "      <td>2015</td>\n",
       "      <td>12757410.0</td>\n",
       "      <td>13814642</td>\n",
       "    </tr>\n",
       "    <tr>\n",
       "      <th>8783</th>\n",
       "      <td>zwe</td>\n",
       "      <td>Zimbabwe</td>\n",
       "      <td>2016</td>\n",
       "      <td>12878926.0</td>\n",
       "      <td>14030338</td>\n",
       "    </tr>\n",
       "    <tr>\n",
       "      <th>8784</th>\n",
       "      <td>zwe</td>\n",
       "      <td>Zimbabwe</td>\n",
       "      <td>2017</td>\n",
       "      <td>14092104.0</td>\n",
       "      <td>14236599</td>\n",
       "    </tr>\n",
       "    <tr>\n",
       "      <th>8785</th>\n",
       "      <td>zwe</td>\n",
       "      <td>Zimbabwe</td>\n",
       "      <td>2018</td>\n",
       "      <td>12908992.0</td>\n",
       "      <td>14438812</td>\n",
       "    </tr>\n",
       "  </tbody>\n",
       "</table>\n",
       "<p>8786 rows × 5 columns</p>\n",
       "</div>"
      ],
      "text/plain": [
       "      geo      country  time  cell_phones_total  population_total\n",
       "0     afg  Afghanistan  1960                0.0           8996967\n",
       "1     afg  Afghanistan  1965                0.0           9956318\n",
       "2     afg  Afghanistan  1970                0.0          11173654\n",
       "3     afg  Afghanistan  1975                0.0          12689164\n",
       "4     afg  Afghanistan  1976                0.0          12943093\n",
       "...   ...          ...   ...                ...               ...\n",
       "8781  zwe     Zimbabwe  2014         11798652.0          13586710\n",
       "8782  zwe     Zimbabwe  2015         12757410.0          13814642\n",
       "8783  zwe     Zimbabwe  2016         12878926.0          14030338\n",
       "8784  zwe     Zimbabwe  2017         14092104.0          14236599\n",
       "8785  zwe     Zimbabwe  2018         12908992.0          14438812\n",
       "\n",
       "[8786 rows x 5 columns]"
      ]
     },
     "execution_count": 24,
     "metadata": {
      "tags": []
     },
     "output_type": "execute_result"
    }
   ],
   "source": [
    "### YOUR CODE HERE ###\n",
    "cell_population_country = pd.merge(geo_country_codes[['geo', 'country']], cell_population, how='inner', on='geo')\n",
    "cell_population_country"
   ]
  },
  {
   "cell_type": "markdown",
   "metadata": {
    "id": "8xjRfkOjKECI"
   },
   "source": [
    "### Part 3 - Make features\n",
    "\n",
    "Calculate the number of cell phones per person, and add this column onto your dataframe.\n",
    "\n",
    "(You've calculated correctly if you get 1.230448 cell phones per person in the United States in 2017.)"
   ]
  },
  {
   "cell_type": "code",
   "execution_count": 25,
   "metadata": {
    "colab": {
     "base_uri": "https://localhost:8080/",
     "height": 516
    },
    "id": "_uUx3_d5u_6n",
    "outputId": "a2e3cbc6-22a5-4766-b6e7-f5b5e6f67a99"
   },
   "outputs": [
    {
     "name": "stdout",
     "output_type": "stream",
     "text": [
      "geo                            usa\n",
      "country              United States\n",
      "time                          2017\n",
      "cell_phones_total            4e+08\n",
      "population_total         325084758\n",
      "phones_per_person          1.23045\n",
      "Name: 8319, dtype: object\n"
     ]
    },
    {
     "data": {
      "text/html": [
       "<div>\n",
       "<style scoped>\n",
       "    .dataframe tbody tr th:only-of-type {\n",
       "        vertical-align: middle;\n",
       "    }\n",
       "\n",
       "    .dataframe tbody tr th {\n",
       "        vertical-align: top;\n",
       "    }\n",
       "\n",
       "    .dataframe thead th {\n",
       "        text-align: right;\n",
       "    }\n",
       "</style>\n",
       "<table border=\"1\" class=\"dataframe\">\n",
       "  <thead>\n",
       "    <tr style=\"text-align: right;\">\n",
       "      <th></th>\n",
       "      <th>geo</th>\n",
       "      <th>country</th>\n",
       "      <th>time</th>\n",
       "      <th>cell_phones_total</th>\n",
       "      <th>population_total</th>\n",
       "      <th>phones_per_person</th>\n",
       "    </tr>\n",
       "  </thead>\n",
       "  <tbody>\n",
       "    <tr>\n",
       "      <th>0</th>\n",
       "      <td>afg</td>\n",
       "      <td>Afghanistan</td>\n",
       "      <td>1960</td>\n",
       "      <td>0.0</td>\n",
       "      <td>8996967</td>\n",
       "      <td>0.000000</td>\n",
       "    </tr>\n",
       "    <tr>\n",
       "      <th>1</th>\n",
       "      <td>afg</td>\n",
       "      <td>Afghanistan</td>\n",
       "      <td>1965</td>\n",
       "      <td>0.0</td>\n",
       "      <td>9956318</td>\n",
       "      <td>0.000000</td>\n",
       "    </tr>\n",
       "    <tr>\n",
       "      <th>2</th>\n",
       "      <td>afg</td>\n",
       "      <td>Afghanistan</td>\n",
       "      <td>1970</td>\n",
       "      <td>0.0</td>\n",
       "      <td>11173654</td>\n",
       "      <td>0.000000</td>\n",
       "    </tr>\n",
       "    <tr>\n",
       "      <th>3</th>\n",
       "      <td>afg</td>\n",
       "      <td>Afghanistan</td>\n",
       "      <td>1975</td>\n",
       "      <td>0.0</td>\n",
       "      <td>12689164</td>\n",
       "      <td>0.000000</td>\n",
       "    </tr>\n",
       "    <tr>\n",
       "      <th>4</th>\n",
       "      <td>afg</td>\n",
       "      <td>Afghanistan</td>\n",
       "      <td>1976</td>\n",
       "      <td>0.0</td>\n",
       "      <td>12943093</td>\n",
       "      <td>0.000000</td>\n",
       "    </tr>\n",
       "    <tr>\n",
       "      <th>...</th>\n",
       "      <td>...</td>\n",
       "      <td>...</td>\n",
       "      <td>...</td>\n",
       "      <td>...</td>\n",
       "      <td>...</td>\n",
       "      <td>...</td>\n",
       "    </tr>\n",
       "    <tr>\n",
       "      <th>8781</th>\n",
       "      <td>zwe</td>\n",
       "      <td>Zimbabwe</td>\n",
       "      <td>2014</td>\n",
       "      <td>11798652.0</td>\n",
       "      <td>13586710</td>\n",
       "      <td>0.868397</td>\n",
       "    </tr>\n",
       "    <tr>\n",
       "      <th>8782</th>\n",
       "      <td>zwe</td>\n",
       "      <td>Zimbabwe</td>\n",
       "      <td>2015</td>\n",
       "      <td>12757410.0</td>\n",
       "      <td>13814642</td>\n",
       "      <td>0.923470</td>\n",
       "    </tr>\n",
       "    <tr>\n",
       "      <th>8783</th>\n",
       "      <td>zwe</td>\n",
       "      <td>Zimbabwe</td>\n",
       "      <td>2016</td>\n",
       "      <td>12878926.0</td>\n",
       "      <td>14030338</td>\n",
       "      <td>0.917934</td>\n",
       "    </tr>\n",
       "    <tr>\n",
       "      <th>8784</th>\n",
       "      <td>zwe</td>\n",
       "      <td>Zimbabwe</td>\n",
       "      <td>2017</td>\n",
       "      <td>14092104.0</td>\n",
       "      <td>14236599</td>\n",
       "      <td>0.989850</td>\n",
       "    </tr>\n",
       "    <tr>\n",
       "      <th>8785</th>\n",
       "      <td>zwe</td>\n",
       "      <td>Zimbabwe</td>\n",
       "      <td>2018</td>\n",
       "      <td>12908992.0</td>\n",
       "      <td>14438812</td>\n",
       "      <td>0.894048</td>\n",
       "    </tr>\n",
       "  </tbody>\n",
       "</table>\n",
       "<p>8786 rows × 6 columns</p>\n",
       "</div>"
      ],
      "text/plain": [
       "      geo      country  ...  population_total  phones_per_person\n",
       "0     afg  Afghanistan  ...           8996967           0.000000\n",
       "1     afg  Afghanistan  ...           9956318           0.000000\n",
       "2     afg  Afghanistan  ...          11173654           0.000000\n",
       "3     afg  Afghanistan  ...          12689164           0.000000\n",
       "4     afg  Afghanistan  ...          12943093           0.000000\n",
       "...   ...          ...  ...               ...                ...\n",
       "8781  zwe     Zimbabwe  ...          13586710           0.868397\n",
       "8782  zwe     Zimbabwe  ...          13814642           0.923470\n",
       "8783  zwe     Zimbabwe  ...          14030338           0.917934\n",
       "8784  zwe     Zimbabwe  ...          14236599           0.989850\n",
       "8785  zwe     Zimbabwe  ...          14438812           0.894048\n",
       "\n",
       "[8786 rows x 6 columns]"
      ]
     },
     "execution_count": 25,
     "metadata": {
      "tags": []
     },
     "output_type": "execute_result"
    }
   ],
   "source": [
    "### YOUR CODE HERE ###\n",
    "cell_population_country['phones_per_person'] = [cell_population_country['cell_phones_total'][i]/cell_population_country['population_total'][i] for i in range(0, len(cell_population_country['cell_phones_total']))]\n",
    "print(cell_population_country.iloc[8319])\n",
    "cell_population_country"
   ]
  },
  {
   "cell_type": "code",
   "execution_count": 26,
   "metadata": {
    "colab": {
     "base_uri": "https://localhost:8080/",
     "height": 75
    },
    "id": "ku5LYfYgwaeY",
    "outputId": "27a5ce99-fd3e-462e-e164-35bf18fc9db4"
   },
   "outputs": [
    {
     "data": {
      "text/html": [
       "<div>\n",
       "<style scoped>\n",
       "    .dataframe tbody tr th:only-of-type {\n",
       "        vertical-align: middle;\n",
       "    }\n",
       "\n",
       "    .dataframe tbody tr th {\n",
       "        vertical-align: top;\n",
       "    }\n",
       "\n",
       "    .dataframe thead th {\n",
       "        text-align: right;\n",
       "    }\n",
       "</style>\n",
       "<table border=\"1\" class=\"dataframe\">\n",
       "  <thead>\n",
       "    <tr style=\"text-align: right;\">\n",
       "      <th></th>\n",
       "      <th>geo</th>\n",
       "      <th>country</th>\n",
       "      <th>time</th>\n",
       "      <th>cell_phones_total</th>\n",
       "      <th>population_total</th>\n",
       "      <th>phones_per_person</th>\n",
       "    </tr>\n",
       "  </thead>\n",
       "  <tbody>\n",
       "    <tr>\n",
       "      <th>8319</th>\n",
       "      <td>usa</td>\n",
       "      <td>United States</td>\n",
       "      <td>2017</td>\n",
       "      <td>400000000.0</td>\n",
       "      <td>325084758</td>\n",
       "      <td>1.230448</td>\n",
       "    </tr>\n",
       "  </tbody>\n",
       "</table>\n",
       "</div>"
      ],
      "text/plain": [
       "      geo        country  ...  population_total  phones_per_person\n",
       "8319  usa  United States  ...         325084758           1.230448\n",
       "\n",
       "[1 rows x 6 columns]"
      ]
     },
     "execution_count": 26,
     "metadata": {
      "tags": []
     },
     "output_type": "execute_result"
    }
   ],
   "source": [
    "cell_population_country[(cell_population_country.country=='United States') & (cell_population_country.time==2017)]"
   ]
  },
  {
   "cell_type": "markdown",
   "metadata": {
    "id": "KApcmvhH0kLR"
   },
   "source": [
    "### Stretch Goal:\n",
    "Modify the geo column to make the geo codes uppercase instead of lowercase."
   ]
  },
  {
   "cell_type": "code",
   "execution_count": 27,
   "metadata": {
    "colab": {
     "base_uri": "https://localhost:8080/",
     "height": 227
    },
    "id": "rPQVparwvFUw",
    "outputId": "0b39d479-1bae-460f-f419-f84ccd4d11f0"
   },
   "outputs": [
    {
     "data": {
      "text/plain": [
       "0       AFG\n",
       "1       AFG\n",
       "2       AFG\n",
       "3       AFG\n",
       "4       AFG\n",
       "       ... \n",
       "8781    ZWE\n",
       "8782    ZWE\n",
       "8783    ZWE\n",
       "8784    ZWE\n",
       "8785    ZWE\n",
       "Name: geo, Length: 8786, dtype: object"
      ]
     },
     "execution_count": 27,
     "metadata": {
      "tags": []
     },
     "output_type": "execute_result"
    }
   ],
   "source": [
    "### YOUR CODE HERE ###\n",
    "cell_population_country['geo'] = [i.upper() for i in cell_population_country['geo']]\n",
    "cell_population_country['geo']"
   ]
  },
  {
   "cell_type": "markdown",
   "metadata": {
    "id": "j2xDq7MAKRjg"
   },
   "source": [
    "### Part 4 - Process data\n",
    "\n",
    "Use the describe function, to describe your dataframe's numeric columns, and then its non-numeric columns.\n",
    "\n",
    "(You'll see the time period ranges from 1960 to 2018, and there are 195 unique countries represented.)"
   ]
  },
  {
   "cell_type": "code",
   "execution_count": 28,
   "metadata": {
    "colab": {
     "base_uri": "https://localhost:8080/",
     "height": 277
    },
    "id": "veC81M-xvJkX",
    "outputId": "d3314f10-a34c-49e4-beda-d2a57bb21414"
   },
   "outputs": [
    {
     "data": {
      "text/html": [
       "<div>\n",
       "<style scoped>\n",
       "    .dataframe tbody tr th:only-of-type {\n",
       "        vertical-align: middle;\n",
       "    }\n",
       "\n",
       "    .dataframe tbody tr th {\n",
       "        vertical-align: top;\n",
       "    }\n",
       "\n",
       "    .dataframe thead th {\n",
       "        text-align: right;\n",
       "    }\n",
       "</style>\n",
       "<table border=\"1\" class=\"dataframe\">\n",
       "  <thead>\n",
       "    <tr style=\"text-align: right;\">\n",
       "      <th></th>\n",
       "      <th>time</th>\n",
       "      <th>cell_phones_total</th>\n",
       "      <th>population_total</th>\n",
       "      <th>phones_per_person</th>\n",
       "    </tr>\n",
       "  </thead>\n",
       "  <tbody>\n",
       "    <tr>\n",
       "      <th>count</th>\n",
       "      <td>8786.000000</td>\n",
       "      <td>8.786000e+03</td>\n",
       "      <td>8.786000e+03</td>\n",
       "      <td>8786.000000</td>\n",
       "    </tr>\n",
       "    <tr>\n",
       "      <th>mean</th>\n",
       "      <td>1994.721603</td>\n",
       "      <td>9.701331e+06</td>\n",
       "      <td>3.002185e+07</td>\n",
       "      <td>0.298025</td>\n",
       "    </tr>\n",
       "    <tr>\n",
       "      <th>std</th>\n",
       "      <td>14.525220</td>\n",
       "      <td>5.968296e+07</td>\n",
       "      <td>1.172833e+08</td>\n",
       "      <td>0.468332</td>\n",
       "    </tr>\n",
       "    <tr>\n",
       "      <th>min</th>\n",
       "      <td>1960.000000</td>\n",
       "      <td>0.000000e+00</td>\n",
       "      <td>4.377000e+03</td>\n",
       "      <td>0.000000</td>\n",
       "    </tr>\n",
       "    <tr>\n",
       "      <th>25%</th>\n",
       "      <td>1983.000000</td>\n",
       "      <td>0.000000e+00</td>\n",
       "      <td>1.474928e+06</td>\n",
       "      <td>0.000000</td>\n",
       "    </tr>\n",
       "    <tr>\n",
       "      <th>50%</th>\n",
       "      <td>1995.000000</td>\n",
       "      <td>8.500000e+03</td>\n",
       "      <td>5.816554e+06</td>\n",
       "      <td>0.002346</td>\n",
       "    </tr>\n",
       "    <tr>\n",
       "      <th>75%</th>\n",
       "      <td>2007.000000</td>\n",
       "      <td>2.028511e+06</td>\n",
       "      <td>1.823047e+07</td>\n",
       "      <td>0.532728</td>\n",
       "    </tr>\n",
       "    <tr>\n",
       "      <th>max</th>\n",
       "      <td>2018.000000</td>\n",
       "      <td>1.649302e+09</td>\n",
       "      <td>1.427648e+09</td>\n",
       "      <td>2.699755</td>\n",
       "    </tr>\n",
       "  </tbody>\n",
       "</table>\n",
       "</div>"
      ],
      "text/plain": [
       "              time  cell_phones_total  population_total  phones_per_person\n",
       "count  8786.000000       8.786000e+03      8.786000e+03        8786.000000\n",
       "mean   1994.721603       9.701331e+06      3.002185e+07           0.298025\n",
       "std      14.525220       5.968296e+07      1.172833e+08           0.468332\n",
       "min    1960.000000       0.000000e+00      4.377000e+03           0.000000\n",
       "25%    1983.000000       0.000000e+00      1.474928e+06           0.000000\n",
       "50%    1995.000000       8.500000e+03      5.816554e+06           0.002346\n",
       "75%    2007.000000       2.028511e+06      1.823047e+07           0.532728\n",
       "max    2018.000000       1.649302e+09      1.427648e+09           2.699755"
      ]
     },
     "execution_count": 28,
     "metadata": {
      "tags": []
     },
     "output_type": "execute_result"
    }
   ],
   "source": [
    "### YOUR CODE HERE ###\n",
    "cell_population_country.describe()"
   ]
  },
  {
   "cell_type": "code",
   "execution_count": 29,
   "metadata": {
    "colab": {
     "base_uri": "https://localhost:8080/",
     "height": 162
    },
    "id": "obNPNpSdvJuU",
    "outputId": "0a749066-659f-48b5-c6f0-c4bcda3f7878"
   },
   "outputs": [
    {
     "data": {
      "text/html": [
       "<div>\n",
       "<style scoped>\n",
       "    .dataframe tbody tr th:only-of-type {\n",
       "        vertical-align: middle;\n",
       "    }\n",
       "\n",
       "    .dataframe tbody tr th {\n",
       "        vertical-align: top;\n",
       "    }\n",
       "\n",
       "    .dataframe thead th {\n",
       "        text-align: right;\n",
       "    }\n",
       "</style>\n",
       "<table border=\"1\" class=\"dataframe\">\n",
       "  <thead>\n",
       "    <tr style=\"text-align: right;\">\n",
       "      <th></th>\n",
       "      <th>geo</th>\n",
       "      <th>country</th>\n",
       "    </tr>\n",
       "  </thead>\n",
       "  <tbody>\n",
       "    <tr>\n",
       "      <th>count</th>\n",
       "      <td>8786</td>\n",
       "      <td>8786</td>\n",
       "    </tr>\n",
       "    <tr>\n",
       "      <th>unique</th>\n",
       "      <td>195</td>\n",
       "      <td>195</td>\n",
       "    </tr>\n",
       "    <tr>\n",
       "      <th>top</th>\n",
       "      <td>ARM</td>\n",
       "      <td>Belgium</td>\n",
       "    </tr>\n",
       "    <tr>\n",
       "      <th>freq</th>\n",
       "      <td>47</td>\n",
       "      <td>47</td>\n",
       "    </tr>\n",
       "  </tbody>\n",
       "</table>\n",
       "</div>"
      ],
      "text/plain": [
       "         geo  country\n",
       "count   8786     8786\n",
       "unique   195      195\n",
       "top      ARM  Belgium\n",
       "freq      47       47"
      ]
     },
     "execution_count": 29,
     "metadata": {
      "tags": []
     },
     "output_type": "execute_result"
    }
   ],
   "source": [
    "### YOUR CODE HERE ###\n",
    "cell_population_country.describe(exclude=[int, float])"
   ]
  },
  {
   "cell_type": "markdown",
   "metadata": {
    "id": "KXEmo_HdKy_5"
   },
   "source": [
    "In 2017, what were the top 5 countries with the most cell phones total?\n",
    "\n",
    "Your list of countries should have these totals:\n",
    "\n",
    "| country | cell phones total |\n",
    "|:-------:|:-----------------:|\n",
    "|    ?    |     1,469,882,500 |\n",
    "|    ?    |     1,168,902,277 |\n",
    "|    ?    |       435,193,605 |\n",
    "|    ?    |       400,000,000 |\n",
    "|    ?    |       227,299,663 |\n"
   ]
  },
  {
   "cell_type": "code",
   "execution_count": 30,
   "metadata": {
    "colab": {
     "base_uri": "https://localhost:8080/",
     "height": 191
    },
    "id": "VeklFyFlvN49",
    "outputId": "45191bb7-b12d-4cb1-e5db-ebf1ba49bd05"
   },
   "outputs": [
    {
     "data": {
      "text/html": [
       "<div>\n",
       "<style scoped>\n",
       "    .dataframe tbody tr th:only-of-type {\n",
       "        vertical-align: middle;\n",
       "    }\n",
       "\n",
       "    .dataframe tbody tr th {\n",
       "        vertical-align: top;\n",
       "    }\n",
       "\n",
       "    .dataframe thead th {\n",
       "        text-align: right;\n",
       "    }\n",
       "</style>\n",
       "<table border=\"1\" class=\"dataframe\">\n",
       "  <thead>\n",
       "    <tr style=\"text-align: right;\">\n",
       "      <th></th>\n",
       "      <th>country</th>\n",
       "      <th>cell_phones_total</th>\n",
       "    </tr>\n",
       "  </thead>\n",
       "  <tbody>\n",
       "    <tr>\n",
       "      <th>1530</th>\n",
       "      <td>China</td>\n",
       "      <td>1.469882e+09</td>\n",
       "    </tr>\n",
       "    <tr>\n",
       "      <th>3674</th>\n",
       "      <td>India</td>\n",
       "      <td>1.168902e+09</td>\n",
       "    </tr>\n",
       "    <tr>\n",
       "      <th>3627</th>\n",
       "      <td>Indonesia</td>\n",
       "      <td>4.351936e+08</td>\n",
       "    </tr>\n",
       "    <tr>\n",
       "      <th>8319</th>\n",
       "      <td>United States</td>\n",
       "      <td>4.000000e+08</td>\n",
       "    </tr>\n",
       "    <tr>\n",
       "      <th>6783</th>\n",
       "      <td>Russia</td>\n",
       "      <td>2.272997e+08</td>\n",
       "    </tr>\n",
       "  </tbody>\n",
       "</table>\n",
       "</div>"
      ],
      "text/plain": [
       "            country  cell_phones_total\n",
       "1530          China       1.469882e+09\n",
       "3674          India       1.168902e+09\n",
       "3627      Indonesia       4.351936e+08\n",
       "8319  United States       4.000000e+08\n",
       "6783         Russia       2.272997e+08"
      ]
     },
     "execution_count": 30,
     "metadata": {
      "tags": []
     },
     "output_type": "execute_result"
    }
   ],
   "source": [
    "### YOUR CODE HERE ###\n",
    "cell_population_country[cell_population_country['time']==2017][['country', 'cell_phones_total']].sort_values(by='cell_phones_total', ascending=False).head()"
   ]
  },
  {
   "cell_type": "markdown",
   "metadata": {
    "id": "UthoeNABLwau"
   },
   "source": [
    "#Explanatory visualizations:\n",
    "\n",
    "Explain why the figure below **cannot** be graphed as a pie chart.\n"
   ]
  },
  {
   "cell_type": "code",
   "execution_count": 31,
   "metadata": {
    "colab": {
     "base_uri": "https://localhost:8080/",
     "height": 787
    },
    "id": "oy9dt9l6Lz18",
    "outputId": "3d87359a-7807-43c1-b8d3-1edf9ad4021b"
   },
   "outputs": [
    {
     "data": {
      "image/png": "[encoded data removed]",
      "text/plain": [
       "<IPython.core.display.Image object>"
      ]
     },
     "metadata": {
      "image/png": {
       "width": 500
      },
      "tags": []
     },
     "output_type": "display_data"
    }
   ],
   "source": [
    "from IPython.display import display, Image\n",
    "png = 'https://fivethirtyeight.com/wp-content/uploads/2014/04/hickey-ross-tags-1.png'\n",
    "example = Image(png, width=500)\n",
    "display(example)"
   ]
  },
  {
   "cell_type": "markdown",
   "metadata": {
    "id": "_IV2boStiD7J"
   },
   "source": [
    "Pie charts can only be used to represent parts of a whole. This data set represents the different features from all his paintings, which is not parts of a whole."
   ]
  },
  {
   "cell_type": "markdown",
   "metadata": {
    "id": "hPtUkBGKi6AV"
   },
   "source": [
    "### Using the Titanic Data and figure, axis syntax, create a histogram of passenger age.  Describe your results in a sentence or two."
   ]
  },
  {
   "cell_type": "code",
   "execution_count": 32,
   "metadata": {
    "colab": {
     "base_uri": "https://localhost:8080/",
     "height": 191
    },
    "id": "ACKJZknZFG6y",
    "outputId": "d94f7eff-00da-4b70-96d5-32fc629e3f2e"
   },
   "outputs": [
    {
     "data": {
      "text/html": [
       "<div>\n",
       "<style scoped>\n",
       "    .dataframe tbody tr th:only-of-type {\n",
       "        vertical-align: middle;\n",
       "    }\n",
       "\n",
       "    .dataframe tbody tr th {\n",
       "        vertical-align: top;\n",
       "    }\n",
       "\n",
       "    .dataframe thead th {\n",
       "        text-align: right;\n",
       "    }\n",
       "</style>\n",
       "<table border=\"1\" class=\"dataframe\">\n",
       "  <thead>\n",
       "    <tr style=\"text-align: right;\">\n",
       "      <th></th>\n",
       "      <th>Survived</th>\n",
       "      <th>Pclass</th>\n",
       "      <th>Name</th>\n",
       "      <th>Sex</th>\n",
       "      <th>Age</th>\n",
       "      <th>Siblings/Spouses_Aboard</th>\n",
       "      <th>Parents/Children_Aboard</th>\n",
       "      <th>Fare</th>\n",
       "    </tr>\n",
       "  </thead>\n",
       "  <tbody>\n",
       "    <tr>\n",
       "      <th>0</th>\n",
       "      <td>0</td>\n",
       "      <td>3</td>\n",
       "      <td>Mr. Owen Harris Braund</td>\n",
       "      <td>male</td>\n",
       "      <td>22.0</td>\n",
       "      <td>1</td>\n",
       "      <td>0</td>\n",
       "      <td>7.2500</td>\n",
       "    </tr>\n",
       "    <tr>\n",
       "      <th>1</th>\n",
       "      <td>1</td>\n",
       "      <td>1</td>\n",
       "      <td>Mrs. John Bradley (Florence Briggs Thayer) Cum...</td>\n",
       "      <td>female</td>\n",
       "      <td>38.0</td>\n",
       "      <td>1</td>\n",
       "      <td>0</td>\n",
       "      <td>71.2833</td>\n",
       "    </tr>\n",
       "    <tr>\n",
       "      <th>2</th>\n",
       "      <td>1</td>\n",
       "      <td>3</td>\n",
       "      <td>Miss. Laina Heikkinen</td>\n",
       "      <td>female</td>\n",
       "      <td>26.0</td>\n",
       "      <td>0</td>\n",
       "      <td>0</td>\n",
       "      <td>7.9250</td>\n",
       "    </tr>\n",
       "    <tr>\n",
       "      <th>3</th>\n",
       "      <td>1</td>\n",
       "      <td>1</td>\n",
       "      <td>Mrs. Jacques Heath (Lily May Peel) Futrelle</td>\n",
       "      <td>female</td>\n",
       "      <td>35.0</td>\n",
       "      <td>1</td>\n",
       "      <td>0</td>\n",
       "      <td>53.1000</td>\n",
       "    </tr>\n",
       "    <tr>\n",
       "      <th>4</th>\n",
       "      <td>0</td>\n",
       "      <td>3</td>\n",
       "      <td>Mr. William Henry Allen</td>\n",
       "      <td>male</td>\n",
       "      <td>35.0</td>\n",
       "      <td>0</td>\n",
       "      <td>0</td>\n",
       "      <td>8.0500</td>\n",
       "    </tr>\n",
       "  </tbody>\n",
       "</table>\n",
       "</div>"
      ],
      "text/plain": [
       "   Survived  Pclass  ... Parents/Children_Aboard     Fare\n",
       "0         0       3  ...                       0   7.2500\n",
       "1         1       1  ...                       0  71.2833\n",
       "2         1       3  ...                       0   7.9250\n",
       "3         1       1  ...                       0  53.1000\n",
       "4         0       3  ...                       0   8.0500\n",
       "\n",
       "[5 rows x 8 columns]"
      ]
     },
     "execution_count": 32,
     "metadata": {
      "tags": []
     },
     "output_type": "execute_result"
    }
   ],
   "source": [
    "\n",
    "import pandas as pd\n",
    "\n",
    "# Load the Titanic dataset from its URL:\n",
    "Titanic = pd.read_csv('https://raw.githubusercontent.com/LambdaSchool/data-science-practice-datasets/main/unit_1/Titanic/Titanic.csv')\n",
    "\n",
    "Titanic.head()\n"
   ]
  },
  {
   "cell_type": "code",
   "execution_count": 33,
   "metadata": {
    "colab": {
     "base_uri": "https://localhost:8080/",
     "height": 411
    },
    "id": "jRvLPu2_vlZG",
    "outputId": "0ba9fd57-5aa2-41f9-9eac-cb753c63c674"
   },
   "outputs": [
    {
     "data": {
      "image/png": "[encoded data removed]",
      "text/plain": [
       "<Figure size 720x432 with 1 Axes>"
      ]
     },
     "metadata": {
      "tags": []
     },
     "output_type": "display_data"
    }
   ],
   "source": [
    "### YOUR CODE HERE ###\n",
    "import matplotlib.pyplot as plt\n",
    "\n",
    "plt.style.use('dark_background')\n",
    "fig, ax = plt.subplots(figsize=(10,6))\n",
    "\n",
    "ax.hist(Titanic['Age'], bins=80, color='green')\n",
    "ax.set_title('Distribution of Passenger Age', fontsize=20)\n",
    "ax.set_xlabel('Age', fontsize=12)\n",
    "ax.set_ylabel('Number of passengers', fontsize=12)\n",
    "\n",
    "plt.show()"
   ]
  },
  {
   "cell_type": "markdown",
   "metadata": {
    "id": "uBVSewujjgpi"
   },
   "source": [
    "Most of the passengers were between 15 and 30, with a steady decrease in number of passengers as age increases."
   ]
  },
  {
   "cell_type": "code",
   "execution_count": 33,
   "metadata": {
    "id": "TbuCVkuiJISN"
   },
   "outputs": [],
   "source": []
  }
 ],
 "metadata": {
  "colab": {
   "collapsed_sections": [],
   "name": "DS_Unit_1_Sprint_Challenge_1_Data_Wrangling_and_Storytelling.ipynb",
   "provenance": []
  },
  "kernelspec": {
   "display_name": "Python 3",
   "language": "python",
   "name": "python3"
  },
  "language_info": {
   "codemirror_mode": {
    "name": "ipython",
    "version": 3
   },
   "file_extension": ".py",
   "mimetype": "text/x-python",
   "name": "python",
   "nbconvert_exporter": "python",
   "pygments_lexer": "ipython3",
   "version": "3.8.5"
  }
 },
 "nbformat": 4,
 "nbformat_minor": 1
}
