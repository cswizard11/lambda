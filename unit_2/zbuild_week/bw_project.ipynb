{
 "cells": [
  {
   "cell_type": "markdown",
   "metadata": {},
   "source": [
    "# This notebook makes a machine learning model from a Kaggle dataset about the Big 5 Personality Traits. The goal is to predict the 5th trait given the answers to the questions of the other 4. It is somewhat successful.\n",
    "\n",
    "### How to interpret the data:\n",
    "- Answers to the questions are given on a scale of 1 to 5, 1 being strongly disagree, 5 strongly agree\n",
    "- The average of the 10 questions tells you which side of the scale you are on for that trait. For example, with extraversion a score closer to 1 would mean introverted, a score closer to 5 would mean extraverted, and something in the middle means a little bit of both\n",
    "- EXT is extraversion\n",
    "- EST is neuroticism\n",
    "- AGR is agreeableness\n",
    "- CSN is conscientiousness\n",
    "- OPN is openness"
   ]
  },
  {
   "cell_type": "code",
   "execution_count": 1,
   "metadata": {},
   "outputs": [],
   "source": [
    "#import everything I need, and some things I don't\n",
    "import pandas as pd\n",
    "from sklearn.linear_model import LogisticRegressionCV\n",
    "from sklearn.metrics import mean_absolute_error, plot_confusion_matrix\n",
    "from sklearn.ensemble import RandomForestClassifier\n",
    "from sklearn.linear_model import SGDRegressor\n",
    "from sklearn.model_selection import train_test_split, GridSearchCV, RandomizedSearchCV\n",
    "from sklearn.pipeline import make_pipeline\n",
    "from sklearn.decomposition import PCA\n",
    "from xgboost import XGBClassifier, XGBRegressor\n",
    "from joblib import dump, load\n",
    "import numpy as np"
   ]
  },
  {
   "cell_type": "code",
   "execution_count": 2,
   "metadata": {},
   "outputs": [
    {
     "name": "stdout",
     "output_type": "stream",
     "text": [
      "<class 'pandas.core.frame.DataFrame'>\n",
      "RangeIndex: 1015341 entries, 0 to 1015340\n",
      "Columns: 110 entries, EXT1 to long_appx_lots_of_err\n",
      "dtypes: float64(104), int64(2), object(4)\n",
      "memory usage: 852.1+ MB\n"
     ]
    }
   ],
   "source": [
    "#read in the dataset and take a look\n",
    "#interpret 0's as NaN values, since all values should be between 1 and 5\n",
    "df = pd.read_table('data-final.csv', na_values=0)\n",
    "df.info()"
   ]
  },
  {
   "cell_type": "code",
   "execution_count": 3,
   "metadata": {},
   "outputs": [],
   "source": [
    "def wrangle(data_frame):\n",
    "    '''Get rid of the columns that aren't part of the 50 question test, and drop NaN values'''\n",
    "    new_df = data_frame.copy()\n",
    "    #since the columns I want all end in a number, drop everything that doesn't\n",
    "    include = ['0','1','2','3','4','5','6','7','8','9']\n",
    "    for i in new_df.columns:\n",
    "        if not(i[-1] in include):\n",
    "            new_df.drop(columns=i, inplace=True)\n",
    "            \n",
    "    #drop NaN values, as set above\n",
    "    new_df.dropna(inplace=True)\n",
    "            \n",
    "    return new_df"
   ]
  },
  {
   "cell_type": "code",
   "execution_count": 4,
   "metadata": {},
   "outputs": [
    {
     "data": {
      "text/html": [
       "<div>\n",
       "<style scoped>\n",
       "    .dataframe tbody tr th:only-of-type {\n",
       "        vertical-align: middle;\n",
       "    }\n",
       "\n",
       "    .dataframe tbody tr th {\n",
       "        vertical-align: top;\n",
       "    }\n",
       "\n",
       "    .dataframe thead th {\n",
       "        text-align: right;\n",
       "    }\n",
       "</style>\n",
       "<table border=\"1\" class=\"dataframe\">\n",
       "  <thead>\n",
       "    <tr style=\"text-align: right;\">\n",
       "      <th></th>\n",
       "      <th>EXT1</th>\n",
       "      <th>EXT2</th>\n",
       "      <th>EXT3</th>\n",
       "      <th>EXT4</th>\n",
       "      <th>EXT5</th>\n",
       "      <th>EXT6</th>\n",
       "      <th>EXT7</th>\n",
       "      <th>EXT8</th>\n",
       "      <th>EXT9</th>\n",
       "      <th>EXT10</th>\n",
       "      <th>...</th>\n",
       "      <th>dateload</th>\n",
       "      <th>screenw</th>\n",
       "      <th>screenh</th>\n",
       "      <th>introelapse</th>\n",
       "      <th>testelapse</th>\n",
       "      <th>endelapse</th>\n",
       "      <th>IPC</th>\n",
       "      <th>country</th>\n",
       "      <th>lat_appx_lots_of_err</th>\n",
       "      <th>long_appx_lots_of_err</th>\n",
       "    </tr>\n",
       "  </thead>\n",
       "  <tbody>\n",
       "    <tr>\n",
       "      <th>0</th>\n",
       "      <td>4.0</td>\n",
       "      <td>1.0</td>\n",
       "      <td>5.0</td>\n",
       "      <td>2.0</td>\n",
       "      <td>5.0</td>\n",
       "      <td>1.0</td>\n",
       "      <td>5.0</td>\n",
       "      <td>2.0</td>\n",
       "      <td>4.0</td>\n",
       "      <td>1.0</td>\n",
       "      <td>...</td>\n",
       "      <td>2016-03-03 02:01:01</td>\n",
       "      <td>768.0</td>\n",
       "      <td>1024.0</td>\n",
       "      <td>9.0</td>\n",
       "      <td>234.0</td>\n",
       "      <td>6</td>\n",
       "      <td>1</td>\n",
       "      <td>GB</td>\n",
       "      <td>51.5448</td>\n",
       "      <td>0.1991</td>\n",
       "    </tr>\n",
       "    <tr>\n",
       "      <th>1</th>\n",
       "      <td>3.0</td>\n",
       "      <td>5.0</td>\n",
       "      <td>3.0</td>\n",
       "      <td>4.0</td>\n",
       "      <td>3.0</td>\n",
       "      <td>3.0</td>\n",
       "      <td>2.0</td>\n",
       "      <td>5.0</td>\n",
       "      <td>1.0</td>\n",
       "      <td>5.0</td>\n",
       "      <td>...</td>\n",
       "      <td>2016-03-03 02:01:20</td>\n",
       "      <td>1360.0</td>\n",
       "      <td>768.0</td>\n",
       "      <td>12.0</td>\n",
       "      <td>179.0</td>\n",
       "      <td>11</td>\n",
       "      <td>1</td>\n",
       "      <td>MY</td>\n",
       "      <td>3.1698</td>\n",
       "      <td>101.706</td>\n",
       "    </tr>\n",
       "    <tr>\n",
       "      <th>2</th>\n",
       "      <td>2.0</td>\n",
       "      <td>3.0</td>\n",
       "      <td>4.0</td>\n",
       "      <td>4.0</td>\n",
       "      <td>3.0</td>\n",
       "      <td>2.0</td>\n",
       "      <td>1.0</td>\n",
       "      <td>3.0</td>\n",
       "      <td>2.0</td>\n",
       "      <td>5.0</td>\n",
       "      <td>...</td>\n",
       "      <td>2016-03-03 02:01:56</td>\n",
       "      <td>1366.0</td>\n",
       "      <td>768.0</td>\n",
       "      <td>3.0</td>\n",
       "      <td>186.0</td>\n",
       "      <td>7</td>\n",
       "      <td>1</td>\n",
       "      <td>GB</td>\n",
       "      <td>54.9119</td>\n",
       "      <td>-1.3833</td>\n",
       "    </tr>\n",
       "    <tr>\n",
       "      <th>3</th>\n",
       "      <td>2.0</td>\n",
       "      <td>2.0</td>\n",
       "      <td>2.0</td>\n",
       "      <td>3.0</td>\n",
       "      <td>4.0</td>\n",
       "      <td>2.0</td>\n",
       "      <td>2.0</td>\n",
       "      <td>4.0</td>\n",
       "      <td>1.0</td>\n",
       "      <td>4.0</td>\n",
       "      <td>...</td>\n",
       "      <td>2016-03-03 02:02:02</td>\n",
       "      <td>1920.0</td>\n",
       "      <td>1200.0</td>\n",
       "      <td>186.0</td>\n",
       "      <td>219.0</td>\n",
       "      <td>7</td>\n",
       "      <td>1</td>\n",
       "      <td>GB</td>\n",
       "      <td>51.75</td>\n",
       "      <td>-1.25</td>\n",
       "    </tr>\n",
       "    <tr>\n",
       "      <th>4</th>\n",
       "      <td>3.0</td>\n",
       "      <td>3.0</td>\n",
       "      <td>3.0</td>\n",
       "      <td>3.0</td>\n",
       "      <td>5.0</td>\n",
       "      <td>3.0</td>\n",
       "      <td>3.0</td>\n",
       "      <td>5.0</td>\n",
       "      <td>3.0</td>\n",
       "      <td>4.0</td>\n",
       "      <td>...</td>\n",
       "      <td>2016-03-03 02:02:57</td>\n",
       "      <td>1366.0</td>\n",
       "      <td>768.0</td>\n",
       "      <td>8.0</td>\n",
       "      <td>315.0</td>\n",
       "      <td>17</td>\n",
       "      <td>2</td>\n",
       "      <td>KE</td>\n",
       "      <td>1.0</td>\n",
       "      <td>38.0</td>\n",
       "    </tr>\n",
       "  </tbody>\n",
       "</table>\n",
       "<p>5 rows × 110 columns</p>\n",
       "</div>"
      ],
      "text/plain": [
       "   EXT1  EXT2  EXT3  EXT4  EXT5  EXT6  EXT7  EXT8  EXT9  EXT10  ...  \\\n",
       "0   4.0   1.0   5.0   2.0   5.0   1.0   5.0   2.0   4.0    1.0  ...   \n",
       "1   3.0   5.0   3.0   4.0   3.0   3.0   2.0   5.0   1.0    5.0  ...   \n",
       "2   2.0   3.0   4.0   4.0   3.0   2.0   1.0   3.0   2.0    5.0  ...   \n",
       "3   2.0   2.0   2.0   3.0   4.0   2.0   2.0   4.0   1.0    4.0  ...   \n",
       "4   3.0   3.0   3.0   3.0   5.0   3.0   3.0   5.0   3.0    4.0  ...   \n",
       "\n",
       "              dateload  screenw  screenh  introelapse  testelapse  endelapse  \\\n",
       "0  2016-03-03 02:01:01    768.0   1024.0          9.0       234.0          6   \n",
       "1  2016-03-03 02:01:20   1360.0    768.0         12.0       179.0         11   \n",
       "2  2016-03-03 02:01:56   1366.0    768.0          3.0       186.0          7   \n",
       "3  2016-03-03 02:02:02   1920.0   1200.0        186.0       219.0          7   \n",
       "4  2016-03-03 02:02:57   1366.0    768.0          8.0       315.0         17   \n",
       "\n",
       "   IPC  country  lat_appx_lots_of_err  long_appx_lots_of_err  \n",
       "0    1       GB               51.5448                 0.1991  \n",
       "1    1       MY                3.1698                101.706  \n",
       "2    1       GB               54.9119                -1.3833  \n",
       "3    1       GB                 51.75                  -1.25  \n",
       "4    2       KE                   1.0                   38.0  \n",
       "\n",
       "[5 rows x 110 columns]"
      ]
     },
     "execution_count": 4,
     "metadata": {},
     "output_type": "execute_result"
    }
   ],
   "source": [
    "df.head()"
   ]
  },
  {
   "cell_type": "code",
   "execution_count": 5,
   "metadata": {},
   "outputs": [
    {
     "name": "stdout",
     "output_type": "stream",
     "text": [
      "   EXT1  EXT2  EXT3  EXT4  EXT5  EXT6  EXT7  EXT8  EXT9  EXT10  ...  OPN1  \\\n",
      "0   4.0   1.0   5.0   2.0   5.0   1.0   5.0   2.0   4.0    1.0  ...   5.0   \n",
      "1   3.0   5.0   3.0   4.0   3.0   3.0   2.0   5.0   1.0    5.0  ...   1.0   \n",
      "2   2.0   3.0   4.0   4.0   3.0   2.0   1.0   3.0   2.0    5.0  ...   5.0   \n",
      "3   2.0   2.0   2.0   3.0   4.0   2.0   2.0   4.0   1.0    4.0  ...   4.0   \n",
      "4   3.0   3.0   3.0   3.0   5.0   3.0   3.0   5.0   3.0    4.0  ...   5.0   \n",
      "\n",
      "   OPN2  OPN3  OPN4  OPN5  OPN6  OPN7  OPN8  OPN9  OPN10  \n",
      "0   1.0   4.0   1.0   4.0   1.0   5.0   3.0   4.0    5.0  \n",
      "1   2.0   4.0   2.0   3.0   1.0   4.0   2.0   5.0    3.0  \n",
      "2   1.0   2.0   1.0   4.0   2.0   5.0   3.0   4.0    4.0  \n",
      "3   2.0   5.0   2.0   3.0   1.0   4.0   4.0   3.0    3.0  \n",
      "4   1.0   5.0   1.0   5.0   1.0   5.0   3.0   5.0    5.0  \n",
      "\n",
      "[5 rows x 50 columns]\n",
      "<class 'pandas.core.frame.DataFrame'>\n",
      "Int64Index: 874434 entries, 0 to 1015340\n",
      "Data columns (total 50 columns):\n",
      " #   Column  Non-Null Count   Dtype  \n",
      "---  ------  --------------   -----  \n",
      " 0   EXT1    874434 non-null  float64\n",
      " 1   EXT2    874434 non-null  float64\n",
      " 2   EXT3    874434 non-null  float64\n",
      " 3   EXT4    874434 non-null  float64\n",
      " 4   EXT5    874434 non-null  float64\n",
      " 5   EXT6    874434 non-null  float64\n",
      " 6   EXT7    874434 non-null  float64\n",
      " 7   EXT8    874434 non-null  float64\n",
      " 8   EXT9    874434 non-null  float64\n",
      " 9   EXT10   874434 non-null  float64\n",
      " 10  EST1    874434 non-null  float64\n",
      " 11  EST2    874434 non-null  float64\n",
      " 12  EST3    874434 non-null  float64\n",
      " 13  EST4    874434 non-null  float64\n",
      " 14  EST5    874434 non-null  float64\n",
      " 15  EST6    874434 non-null  float64\n",
      " 16  EST7    874434 non-null  float64\n",
      " 17  EST8    874434 non-null  float64\n",
      " 18  EST9    874434 non-null  float64\n",
      " 19  EST10   874434 non-null  float64\n",
      " 20  AGR1    874434 non-null  float64\n",
      " 21  AGR2    874434 non-null  float64\n",
      " 22  AGR3    874434 non-null  float64\n",
      " 23  AGR4    874434 non-null  float64\n",
      " 24  AGR5    874434 non-null  float64\n",
      " 25  AGR6    874434 non-null  float64\n",
      " 26  AGR7    874434 non-null  float64\n",
      " 27  AGR8    874434 non-null  float64\n",
      " 28  AGR9    874434 non-null  float64\n",
      " 29  AGR10   874434 non-null  float64\n",
      " 30  CSN1    874434 non-null  float64\n",
      " 31  CSN2    874434 non-null  float64\n",
      " 32  CSN3    874434 non-null  float64\n",
      " 33  CSN4    874434 non-null  float64\n",
      " 34  CSN5    874434 non-null  float64\n",
      " 35  CSN6    874434 non-null  float64\n",
      " 36  CSN7    874434 non-null  float64\n",
      " 37  CSN8    874434 non-null  float64\n",
      " 38  CSN9    874434 non-null  float64\n",
      " 39  CSN10   874434 non-null  float64\n",
      " 40  OPN1    874434 non-null  float64\n",
      " 41  OPN2    874434 non-null  float64\n",
      " 42  OPN3    874434 non-null  float64\n",
      " 43  OPN4    874434 non-null  float64\n",
      " 44  OPN5    874434 non-null  float64\n",
      " 45  OPN6    874434 non-null  float64\n",
      " 46  OPN7    874434 non-null  float64\n",
      " 47  OPN8    874434 non-null  float64\n",
      " 48  OPN9    874434 non-null  float64\n",
      " 49  OPN10   874434 non-null  float64\n",
      "dtypes: float64(50)\n",
      "memory usage: 340.2 MB\n",
      "None\n"
     ]
    }
   ],
   "source": [
    "#apply the wrangle function and take a look\n",
    "slim_df = wrangle(df)\n",
    "print(slim_df.head())\n",
    "print(slim_df.info())"
   ]
  },
  {
   "cell_type": "code",
   "execution_count": 6,
   "metadata": {},
   "outputs": [],
   "source": [
    "def make_target(data_frame, target_col):\n",
    "    '''Create the feature matrix and target column with the wrangled dataframe and target\n",
    "    personality trait as inputs'''\n",
    "    new_df = data_frame.copy()\n",
    "    #make a new column of only 0's\n",
    "    new_df['target'] = [0 for num in range(0, len(slim_df))]\n",
    "    \n",
    "    if target_col == 'EXT':\n",
    "        switch = ['EXT2', 'EXT4', 'EXT6', 'EXT8', 'EXT10']\n",
    "                    \n",
    "    elif target_col == 'EST':\n",
    "        switch = ['EST2', 'EST4']\n",
    "                    \n",
    "    elif target_col == 'AGR':\n",
    "        switch = ['AGR1', 'AGR3', 'AGR5', 'AGR7']\n",
    "                    \n",
    "    elif target_col == 'CSN':\n",
    "        switch = ['CSN2', 'CSN4', 'CSN6', 'CSN8']\n",
    "                    \n",
    "    elif target_col == 'OPN':\n",
    "        switch = ['OPN2', 'OPN4', 'OPN6']\n",
    "    \n",
    "    #add all of the numbers from the target personality trait together\n",
    "    for i in new_df.columns:\n",
    "        if target_col in i:\n",
    "                \n",
    "            if i in switch:\n",
    "                new_df['target'] = new_df['target'] + (6 - new_df[i])\n",
    "\n",
    "            else:\n",
    "                new_df['target'] = new_df['target'] + new_df[i]\n",
    "                \n",
    "            new_df.drop(columns=i, inplace=True)\n",
    "    \n",
    "    #take the average of the personalitly trait numbers\n",
    "    true_y = new_df['target'] / 10\n",
    "    \n",
    "    #make the feature matrix\n",
    "    X = new_df.drop(columns='target')\n",
    "    \n",
    "    '''Due to the size of this data set, a regression model would take ages to train, so I turned it\n",
    "    into a classification model I don't know the scale used to interpret these numbers, so I made my own.\n",
    "    The loop below encodes the target trait averages as 0, 1 or 2, 0 being a low average and 2 being high.\n",
    "    It loops through different cutoff points to find where to split the data into as close to even thirds\n",
    "    as possible.'''\n",
    "    \n",
    "    lower = 0.1\n",
    "    upper = 4.9\n",
    "    l_found = False\n",
    "    u_found = False\n",
    "    \n",
    "    #iterate through the lower and upper cutoffs until the shares of both 0 and 2 are over 0.3\n",
    "    while not(l_found & u_found): \n",
    "        y = []\n",
    "        \n",
    "        #create the feature column with the current cutoffs\n",
    "        for i in true_y:\n",
    "            if i < lower:\n",
    "                y.append(0)\n",
    "\n",
    "            elif (i >= lower) & (i <= upper):\n",
    "                y.append(1)\n",
    "\n",
    "            else:\n",
    "                y.append(2)\n",
    "\n",
    "        y = pd.Series(y)\n",
    "        \n",
    "        #check the share of 0. If it's more than 0.3, stop increasing the lower cutoff\n",
    "        if 0 in y.value_counts().index:\n",
    "            if y.value_counts(normalize=True).loc[0] >= 0.32:\n",
    "                l_found = True\n",
    "            else:\n",
    "                lower += 0.1\n",
    "        else:   \n",
    "            lower += 0.1\n",
    "            \n",
    "        #check the share of 2. If it's more than 0.3, stop decreasing the upper cutoff\n",
    "        if 2 in y.value_counts().index:\n",
    "            if y.value_counts(normalize=True).loc[2] >= 0.32:\n",
    "                u_found = True\n",
    "            else:\n",
    "                upper -= 0.1\n",
    "        else:   \n",
    "            upper -= 0.1\n",
    "    \n",
    "    print(lower, upper)\n",
    "    \n",
    "    return X, y"
   ]
  },
  {
   "cell_type": "code",
   "execution_count": 7,
   "metadata": {},
   "outputs": [],
   "source": [
    "def data_split(X, y):\n",
    "    '''Split the data into train, validation, and test sets'''\n",
    "    X_temp, X_test, y_temp, y_test = train_test_split(X, y, test_size=0.2, random_state=11)\n",
    "    X_train, X_val, y_train, y_val = train_test_split(X_temp, y_temp, test_size=0.2, random_state=11)\n",
    "    \n",
    "    return X_train, y_train, X_val, y_val, X_test, y_test"
   ]
  },
  {
   "cell_type": "code",
   "execution_count": 8,
   "metadata": {},
   "outputs": [
    {
     "name": "stdout",
     "output_type": "stream",
     "text": [
      "2.500000000000001 3.300000000000003\n",
      "EXT Baseline: 0.3473080872884632\n"
     ]
    }
   ],
   "source": [
    "#make the target column, splits and print the baseline for the EXT personality trait\n",
    "extX, exty = make_target(slim_df, 'EXT')\n",
    "ext_Xtrain, ext_ytrain, ext_Xval, ext_yval, ext_Xtest, ext_ytest = data_split(extX, exty)\n",
    "ext_baseline = exty.value_counts(normalize=True).max()\n",
    "print('EXT Baseline:', ext_baseline)"
   ]
  },
  {
   "cell_type": "code",
   "execution_count": 9,
   "metadata": {},
   "outputs": [
    {
     "name": "stdout",
     "output_type": "stream",
     "text": [
      "2.600000000000001 3.400000000000003\n",
      "EST Baseline: 0.3464217997012925\n"
     ]
    }
   ],
   "source": [
    "#make the target column, splits and print the baseline for the EST personality trait\n",
    "estX, esty = make_target(slim_df, 'EST')\n",
    "est_Xtrain, est_ytrain, est_Xval, est_yval, est_Xtest, est_ytest = data_split(estX, esty)\n",
    "est_baseline = esty.value_counts(normalize=True).max()\n",
    "print('EST Baseline:', est_baseline)"
   ]
  },
  {
   "cell_type": "code",
   "execution_count": 10,
   "metadata": {},
   "outputs": [
    {
     "name": "stdout",
     "output_type": "stream",
     "text": [
      "3.5000000000000018 4.100000000000003\n",
      "AGR Baseline: 0.33810785033518825\n"
     ]
    }
   ],
   "source": [
    "#make the target column, splits and print the baseline for the AGR personality trait\n",
    "agrX, agry = make_target(slim_df, 'AGR')\n",
    "agr_Xtrain, agr_ytrain, agr_Xval, agr_yval, agr_Xtest, agr_ytest = data_split(agrX, agry)\n",
    "agr_baseline = agry.value_counts(normalize=True).max()\n",
    "print('AGR Baseline:', agr_baseline)"
   ]
  },
  {
   "cell_type": "code",
   "execution_count": 11,
   "metadata": {},
   "outputs": [
    {
     "name": "stdout",
     "output_type": "stream",
     "text": [
      "3.0000000000000013 3.600000000000003\n",
      "CSN Baseline: 0.3615710276590343\n"
     ]
    }
   ],
   "source": [
    "#make the target column, splits and print the baseline for the CSN personality trait\n",
    "csnX, csny = make_target(slim_df, 'CSN')\n",
    "csn_Xtrain, csn_ytrain, csn_Xval, csn_yval, csn_Xtest, csn_ytest = data_split(csnX, csny)\n",
    "csn_baseline = csny.value_counts(normalize=True).max()\n",
    "print('CSN Baseline:', csn_baseline)"
   ]
  },
  {
   "cell_type": "code",
   "execution_count": 12,
   "metadata": {},
   "outputs": [
    {
     "name": "stdout",
     "output_type": "stream",
     "text": [
      "3.600000000000002 4.100000000000003\n",
      "OPN Baseline: 0.3771639712088048\n"
     ]
    }
   ],
   "source": [
    "#make the target column, splits and print the baseline for the OPN personality trait\n",
    "opnX, opny = make_target(slim_df, 'OPN')\n",
    "opn_Xtrain, opn_ytrain, opn_Xval, opn_yval, opn_Xtest, opn_ytest = data_split(opnX, opny)\n",
    "opn_baseline = opny.value_counts(normalize=True).max()\n",
    "print('OPN Baseline:', opn_baseline)"
   ]
  },
  {
   "cell_type": "code",
   "execution_count": 13,
   "metadata": {},
   "outputs": [],
   "source": [
    "#create and fit a Logistic Regression Cross Validation model on the EXT personality trait\n",
    "lr_model = LogisticRegressionCV(cv=5, n_jobs=8)\n",
    "lr_model.fit(ext_Xtrain, ext_ytrain);"
   ]
  },
  {
   "cell_type": "code",
   "execution_count": 14,
   "metadata": {},
   "outputs": [
    {
     "name": "stdout",
     "output_type": "stream",
     "text": [
      "Training Score: 0.5620035844663595\n",
      "Validation Score: 0.5622185690801229\n",
      "Test Score: 0.5645531114376712\n"
     ]
    }
   ],
   "source": [
    "#get the scores for the above model\n",
    "print('Training Score:', lr_model.score(ext_Xtrain, ext_ytrain))\n",
    "print('Validation Score:', lr_model.score(ext_Xval, ext_yval))\n",
    "print('Test Score:', lr_model.score(ext_Xtest, ext_ytest))"
   ]
  },
  {
   "cell_type": "code",
   "execution_count": 15,
   "metadata": {},
   "outputs": [],
   "source": [
    "def make_model(X_train, y_train, X_val, y_val):\n",
    "    '''A function that takes training and validation data as inputs, makes and fits a model,\n",
    "    and returns that model'''\n",
    "    val_set = [(X_val, y_val)]\n",
    "\n",
    "    #create the XGBClassifer model. I gave it a ton of estimators, but told it to stop with no change in 10 rounds\n",
    "    model = XGBClassifier(n_estimators=1000,\n",
    "                          eval_set=val_set,\n",
    "                          eval_metric='merror',\n",
    "                          early_stopping_rounds=10,\n",
    "                          random_state=11,\n",
    "                          n_jobs=8)\n",
    "    \n",
    "    #fit the model on the training data\n",
    "    model.fit(X_train, y_train);\n",
    "    \n",
    "    #print the scores on the given training and validation set\n",
    "    print('Training Score:', model.score(X_train, y_train))\n",
    "    print('Validation Score:', model.score(X_val, y_val))\n",
    "    \n",
    "    return model"
   ]
  },
  {
   "cell_type": "markdown",
   "metadata": {},
   "source": [
    "# The cells below are commented out so they don't run every time I execute this code from scratch. The models take ages to train, so I saved them to external files and load those in instead"
   ]
  },
  {
   "cell_type": "code",
   "execution_count": 16,
   "metadata": {},
   "outputs": [
    {
     "data": {
      "text/plain": [
       "\"ext_model = make_model(ext_Xtrain, ext_ytrain, ext_Xval, ext_yval)\\nprint('EXT Test Score:', ext_model.score(ext_Xtest, ext_ytest))\""
      ]
     },
     "execution_count": 16,
     "metadata": {},
     "output_type": "execute_result"
    }
   ],
   "source": [
    "#create the EXT model and print the test score\n",
    "'''ext_model = make_model(ext_Xtrain, ext_ytrain, ext_Xval, ext_yval)\n",
    "print('EXT Test Score:', ext_model.score(ext_Xtest, ext_ytest))'''"
   ]
  },
  {
   "cell_type": "code",
   "execution_count": 17,
   "metadata": {},
   "outputs": [
    {
     "data": {
      "text/plain": [
       "\"est_model = make_model(est_Xtrain, est_ytrain, est_Xval, est_yval)\\nprint('EST Test Score:', est_model.score(est_Xtest, est_ytest))\""
      ]
     },
     "execution_count": 17,
     "metadata": {},
     "output_type": "execute_result"
    }
   ],
   "source": [
    "#create the EST model and print the test score\n",
    "'''est_model = make_model(est_Xtrain, est_ytrain, est_Xval, est_yval)\n",
    "print('EST Test Score:', est_model.score(est_Xtest, est_ytest))'''"
   ]
  },
  {
   "cell_type": "code",
   "execution_count": 18,
   "metadata": {},
   "outputs": [
    {
     "data": {
      "text/plain": [
       "\"agr_model = make_model(agr_Xtrain, agr_ytrain, agr_Xval, agr_yval)\\nprint('AGR Test Score:', agr_model.score(agr_Xtest, agr_ytest))\""
      ]
     },
     "execution_count": 18,
     "metadata": {},
     "output_type": "execute_result"
    }
   ],
   "source": [
    "#create the AGR model and print the test score\n",
    "'''agr_model = make_model(agr_Xtrain, agr_ytrain, agr_Xval, agr_yval)\n",
    "print('AGR Test Score:', agr_model.score(agr_Xtest, agr_ytest))'''"
   ]
  },
  {
   "cell_type": "code",
   "execution_count": 19,
   "metadata": {},
   "outputs": [
    {
     "data": {
      "text/plain": [
       "\"csn_model = make_model(csn_Xtrain, csn_ytrain, csn_Xval, csn_yval)\\nprint('CSN Test Score:', csn_model.score(csn_Xtest, csn_ytest))\""
      ]
     },
     "execution_count": 19,
     "metadata": {},
     "output_type": "execute_result"
    }
   ],
   "source": [
    "#create the CSN model and print the test score\n",
    "'''csn_model = make_model(csn_Xtrain, csn_ytrain, csn_Xval, csn_yval)\n",
    "print('CSN Test Score:', csn_model.score(csn_Xtest, csn_ytest))'''"
   ]
  },
  {
   "cell_type": "code",
   "execution_count": 20,
   "metadata": {},
   "outputs": [
    {
     "data": {
      "text/plain": [
       "\"opn_model = make_model(opn_Xtrain, opn_ytrain, opn_Xval, opn_yval)\\nprint('OPN Test Score:', opn_model.score(opn_Xtest, opn_ytest))\""
      ]
     },
     "execution_count": 20,
     "metadata": {},
     "output_type": "execute_result"
    }
   ],
   "source": [
    "#create the OPN model and print the test score\n",
    "'''opn_model = make_model(opn_Xtrain, opn_ytrain, opn_Xval, opn_yval)\n",
    "print('OPN Test Score:', opn_model.score(opn_Xtest, opn_ytest))'''"
   ]
  },
  {
   "cell_type": "code",
   "execution_count": 21,
   "metadata": {},
   "outputs": [
    {
     "data": {
      "text/plain": [
       "\"dump(ext_model, 'extmodel.joblib')\\ndump(est_model, 'estmodel.joblib')\\ndump(agr_model, 'agrmodel.joblib')\\ndump(csn_model, 'csnmodel.joblib')\\ndump(opn_model, 'opnmodel.joblib')\""
      ]
     },
     "execution_count": 21,
     "metadata": {},
     "output_type": "execute_result"
    }
   ],
   "source": [
    "#save all of the models to external files so I don't have to re-train them every time I run this code\n",
    "'''dump(ext_model, 'extmodel.joblib')\n",
    "dump(est_model, 'estmodel.joblib')\n",
    "dump(agr_model, 'agrmodel.joblib')\n",
    "dump(csn_model, 'csnmodel.joblib')\n",
    "dump(opn_model, 'opnmodel.joblib')'''"
   ]
  },
  {
   "cell_type": "markdown",
   "metadata": {},
   "source": [
    "## End of commented out code"
   ]
  },
  {
   "cell_type": "code",
   "execution_count": 22,
   "metadata": {},
   "outputs": [
    {
     "name": "stdout",
     "output_type": "stream",
     "text": [
      "EXT Training Score: 0.7058700550535436\n",
      "EXT Validation Score: 0.5670073618754914\n",
      "EXT Test Score: 0.5677952049037378\n"
     ]
    }
   ],
   "source": [
    "#load and print the scores for the EXT model\n",
    "ext_model = load('extmodel.joblib')\n",
    "print('EXT Training Score:', ext_model.score(ext_Xtrain, ext_ytrain))\n",
    "print('EXT Validation Score:', ext_model.score(ext_Xval, ext_yval))\n",
    "print('EXT Test Score:', ext_model.score(ext_Xtest, ext_ytest))"
   ]
  },
  {
   "cell_type": "code",
   "execution_count": 23,
   "metadata": {},
   "outputs": [
    {
     "name": "stdout",
     "output_type": "stream",
     "text": [
      "EST Training Score: 0.6942535965277492\n",
      "EST Validation Score: 0.545414909584733\n",
      "EST Test Score: 0.5444944449844757\n"
     ]
    }
   ],
   "source": [
    "#load and print the scores for the EST model\n",
    "est_model = load('estmodel.joblib')\n",
    "print('EST Training Score:', est_model.score(est_Xtrain, est_ytrain))\n",
    "print('EST Validation Score:', est_model.score(est_Xval, est_yval))\n",
    "print('EST Test Score:', est_model.score(est_Xtest, est_ytest))"
   ]
  },
  {
   "cell_type": "code",
   "execution_count": 24,
   "metadata": {},
   "outputs": [
    {
     "name": "stdout",
     "output_type": "stream",
     "text": [
      "AGR Training Score: 0.6932868984716879\n",
      "AGR Validation Score: 0.5438639125151883\n",
      "AGR Test Score: 0.5446088045423616\n"
     ]
    }
   ],
   "source": [
    "#load and print the scores for the AGR model\n",
    "agr_model = load('agrmodel.joblib')\n",
    "print('AGR Training Score:', agr_model.score(agr_Xtrain, agr_ytrain))\n",
    "print('AGR Validation Score:', agr_model.score(agr_Xval, agr_yval))\n",
    "print('AGR Test Score:', agr_model.score(agr_Xtest, agr_ytest))"
   ]
  },
  {
   "cell_type": "code",
   "execution_count": 25,
   "metadata": {},
   "outputs": [
    {
     "name": "stdout",
     "output_type": "stream",
     "text": [
      "CSN Training Score: 0.6598294966201306\n",
      "CSN Validation Score: 0.5032377957258237\n",
      "CSN Test Score: 0.5027932322013643\n"
     ]
    }
   ],
   "source": [
    "#load and print the scores for the CSN model\n",
    "csn_model = load('csnmodel.joblib')\n",
    "print('CSN Training Score:', csn_model.score(csn_Xtrain, csn_ytrain))\n",
    "print('CSN Validation Score:', csn_model.score(csn_Xval, csn_yval))\n",
    "print('CSN Test Score:', csn_model.score(csn_Xtest, csn_ytest))"
   ]
  },
  {
   "cell_type": "code",
   "execution_count": 26,
   "metadata": {},
   "outputs": [
    {
     "name": "stdout",
     "output_type": "stream",
     "text": [
      "OPN Training Score: 0.6851155302454984\n",
      "OPN Validation Score: 0.5340576084625831\n",
      "OPN Test Score: 0.5320464071085901\n"
     ]
    }
   ],
   "source": [
    "#load and print the scores for the OPN model\n",
    "opn_model = load('opnmodel.joblib')\n",
    "print('OPN Training Score:', opn_model.score(opn_Xtrain, opn_ytrain))\n",
    "print('OPN Validation Score:', opn_model.score(opn_Xval, opn_yval))\n",
    "print('OPN Test Score:', opn_model.score(opn_Xtest, opn_ytest))"
   ]
  },
  {
   "cell_type": "code",
   "execution_count": 27,
   "metadata": {},
   "outputs": [
    {
     "data": {
      "image/png": "[encoded data removed]",
      "text/plain": [
       "<Figure size 432x288 with 2 Axes>"
      ]
     },
     "metadata": {
      "needs_background": "light"
     },
     "output_type": "display_data"
    }
   ],
   "source": [
    "#create a confusion maxtrix to use as a visualization on the blogpost\n",
    "plot_confusion_matrix(ext_model,\n",
    "                      ext_Xtest,\n",
    "                      ext_ytest,\n",
    "                      values_format='.0f');"
   ]
  },
  {
   "cell_type": "code",
   "execution_count": null,
   "metadata": {},
   "outputs": [],
   "source": []
  }
 ],
 "metadata": {
  "colab": {
   "name": "LS_DS_231_assignment.ipynb",
   "provenance": []
  },
  "kernelspec": {
   "display_name": "Python 3",
   "language": "python",
   "name": "python3"
  },
  "language_info": {
   "codemirror_mode": {
    "name": "ipython",
    "version": 3
   },
   "file_extension": ".py",
   "mimetype": "text/x-python",
   "name": "python",
   "nbconvert_exporter": "python",
   "pygments_lexer": "ipython3",
   "version": "3.8.5"
  }
 },
 "nbformat": 4,
 "nbformat_minor": 1
}
