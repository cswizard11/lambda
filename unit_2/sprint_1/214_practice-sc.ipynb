{
  "nbformat": 4,
  "nbformat_minor": 0,
  "metadata": {
    "kernelspec": {
      "display_name": "Python 3",
      "language": "python",
      "name": "python3"
    },
    "language_info": {
      "codemirror_mode": {
        "name": "ipython",
        "version": 3
      },
      "file_extension": ".py",
      "mimetype": "text/x-python",
      "name": "python",
      "nbconvert_exporter": "python",
      "pygments_lexer": "ipython3",
      "version": "3.8.5"
    },
    "colab": {
      "name": "214_practice-sc.ipynb",
      "provenance": []
    }
  },
  "cells": [
    {
      "cell_type": "markdown",
      "metadata": {
        "deletable": false,
        "editable": false,
        "nbgrader": {
          "cell_type": "markdown",
          "checksum": "6c594c06cc46c9ad8a272bc9616981af",
          "grade": false,
          "grade_id": "cell-906c984b80fda88f",
          "locked": true,
          "schema_version": 3,
          "solution": false,
          "task": false
        },
        "id": "DzBZoxeD8VyS"
      },
      "source": [
        "# Sprint Challenge Practice\n",
        "\n",
        "The sprint challenge in this unit will be a little different than the ones you completed in Unit 1. \n",
        "\n",
        "Here's a summary of the differences.\n",
        "\n",
        "## I. Tasks\n",
        "\n",
        "The sprint challenge will have 12 tasks for you to complete (3 of those are optional **`stretch goals`**). Here's an an example:\n",
        "\n",
        "**Task 1:** Write a function `square_num()` that takes a number as input and returns the square of that number."
      ]
    },
    {
      "cell_type": "code",
      "metadata": {
        "deletable": false,
        "nbgrader": {
          "cell_type": "code",
          "checksum": "ff77af5369818d0c7dbf5dfe3840faeb",
          "grade": false,
          "grade_id": "cell-968213003cbf8fea",
          "locked": false,
          "schema_version": 3,
          "solution": true,
          "task": false
        },
        "id": "w-2fmiJ18VyT"
      },
      "source": [
        "'''T1. Write `square_num` function.'''\n",
        "# YOUR CODE HERE\n",
        "def square_num(num):\n",
        "  return num ** 2"
      ],
      "execution_count": 1,
      "outputs": []
    },
    {
      "cell_type": "markdown",
      "metadata": {
        "deletable": false,
        "editable": false,
        "nbgrader": {
          "cell_type": "markdown",
          "checksum": "e554e07094899da8da19df7140caeedf",
          "grade": false,
          "grade_id": "cell-9db9af1c1db93157",
          "locked": true,
          "schema_version": 3,
          "solution": false,
          "task": false
        },
        "id": "5pqLCo4_8Vya"
      },
      "source": [
        "☝️ To complete this task, delete `raise NotImplementedError` and insert your code.\n",
        "\n",
        "## II. Tests\n",
        "\n",
        "Below most of the task cells, there will be a testing cell. Here's an example:\n",
        "\n",
        "**Task 1 Testing**"
      ]
    },
    {
      "cell_type": "code",
      "metadata": {
        "deletable": false,
        "editable": false,
        "nbgrader": {
          "cell_type": "code",
          "checksum": "b99e99328c04a4de107ac6369d669169",
          "grade": true,
          "grade_id": "cell-915ceb8afd7861bb",
          "locked": true,
          "points": 1,
          "schema_version": 3,
          "solution": false,
          "task": false
        },
        "id": "vgRzql8O8Vyb"
      },
      "source": [
        "'''T1. Testing'''\n",
        "assert hasattr(square_num, '__call__'), 'Have you created a function with the correct name?'\n",
        "assert square_num(4) == 16, 'Are you sure your function is returning the square of the input?'"
      ],
      "execution_count": 2,
      "outputs": []
    },
    {
      "cell_type": "markdown",
      "metadata": {
        "deletable": false,
        "editable": false,
        "nbgrader": {
          "cell_type": "markdown",
          "checksum": "8caf7744fba0c4f0cdce40acd7d01215",
          "grade": false,
          "grade_id": "cell-2678b4a736276185",
          "locked": true,
          "schema_version": 3,
          "solution": false,
          "task": false
        },
        "id": "gVcRrIua8Vyf"
      },
      "source": [
        "☝️ Do not change the code in this cell. Just run the cell to see if any of the assert statements throws an error. If you do get an error, read the error message and re-evaluate your code in the task cell.\n",
        "\n",
        "**Warning:** You might look at this testing cell and be tempted to write a function that doesn't follow the instructions but will still be graded as successful. 😈  Maybe something like:\n",
        "\n",
        "```python\n",
        "def square_num(n):\n",
        "    return 16\n",
        "```\n",
        "\n",
        "However, when you submit your sprint challenge, your code will have to pass additional tests that you can't see here. So focus on correctly completing the task, not gaming the system.\n",
        "\n",
        "# III. Autograding\n",
        "\n",
        "Once you've completed your sprint challenge, you'll need to submit your notebook to Canvas for autograding. Here's a video summarizing the process. "
      ]
    },
    {
      "cell_type": "code",
      "metadata": {
        "deletable": false,
        "editable": false,
        "nbgrader": {
          "cell_type": "code",
          "checksum": "23ad76efd89a63801abaedf489dfec28",
          "grade": false,
          "grade_id": "cell-be868182fb598074",
          "locked": true,
          "schema_version": 3,
          "solution": false,
          "task": false
        },
        "id": "G6efi7pC8Vyg",
        "outputId": "7baed607-1157-43dc-f6d6-f3108b6334e8",
        "colab": {
          "base_uri": "https://localhost:8080/",
          "height": 321
        }
      },
      "source": [
        "from IPython.display import YouTubeVideo\n",
        "YouTubeVideo('rd3U-t47iIg')"
      ],
      "execution_count": 3,
      "outputs": [
        {
          "output_type": "execute_result",
          "data": {
            "text/html": [
              "\n",
              "        <iframe\n",
              "            width=\"400\"\n",
              "            height=\"300\"\n",
              "            src=\"https://www.youtube.com/embed/rd3U-t47iIg\"\n",
              "            frameborder=\"0\"\n",
              "            allowfullscreen\n",
              "        ></iframe>\n",
              "        "
            ],
            "text/plain": [
              "<IPython.lib.display.YouTubeVideo at 0x7f16a6cc4908>"
            ],
            "image/jpeg": "[encoded data removed]"
          },
          "metadata": {
            "tags": []
          },
          "execution_count": 3
        }
      ]
    },
    {
      "cell_type": "markdown",
      "metadata": {
        "deletable": false,
        "editable": false,
        "nbgrader": {
          "cell_type": "markdown",
          "checksum": "9af1199eb41fd0b9859160780f285f78",
          "grade": false,
          "grade_id": "cell-a4a13074882e9c50",
          "locked": true,
          "schema_version": 3,
          "solution": false,
          "task": false
        },
        "id": "K_EPeCp48Vyl"
      },
      "source": [
        "**Pro Tip:** Before you submit your notebook, go to the \"Runtime\" menu and select \"Restart and run all.\" That way, you can be sure that your code runs from top to bottom without any errors. 👍\n",
        "\n",
        "## IV. What Should I Study?\n",
        "\n",
        "If you want to prep before the sprint challenge, make sure that you can answer \"yes\" to most of these questions:\n",
        "\n",
        "1. Can I import a CSV file into a DataFrame?\n",
        "1. Can I create a **scatter plot**?\n",
        "1. Can I split a DataFrame into a **target vector** and **feature matrix**?\n",
        "1. Can I split a dataset into a **training set** and a **test set**?\n",
        "1. Can I establish the baseline **mean absolute error** for a **regression** problem?\n",
        "1. Can I combine **transformers** with a **predictor** using a **pipeline**?\n",
        "1. Can I build a **linear regresion** model and a **ridge regression** model?\n",
        "1. Can I evaluate a model using common metrics like mean absolute error, **root mean squared error**, and **$R^2$**?\n",
        "1. If given a feature matrix, can I use my model to create a list of predictions?\n",
        "1. Can I create a **horizontal bar chart** with the **coefficients** from a linear model?\n",
        "\n",
        "Also, if you can answer \"yes\" to these questions, give yourself a pat on the back for everything you've learned this sprint!"
      ]
    }
  ]
}