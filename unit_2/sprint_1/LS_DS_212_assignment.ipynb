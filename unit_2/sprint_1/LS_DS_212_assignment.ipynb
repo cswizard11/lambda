{
  "nbformat": 4,
  "nbformat_minor": 0,
  "metadata": {
    "kernelspec": {
      "display_name": "Python 3",
      "language": "python",
      "name": "python3"
    },
    "language_info": {
      "codemirror_mode": {
        "name": "ipython",
        "version": 3
      },
      "file_extension": ".py",
      "mimetype": "text/x-python",
      "name": "python",
      "nbconvert_exporter": "python",
      "pygments_lexer": "ipython3",
      "version": "3.7.3"
    },
    "colab": {
      "name": "LS_DS_212_assignment.ipynb",
      "provenance": []
    }
  },
  "cells": [
    {
      "cell_type": "markdown",
      "metadata": {
        "id": "ZfBZyD5TeHYR"
      },
      "source": [
        "Lambda School Data Science\n",
        "\n",
        "*Unit 2, Sprint 1, Module 2*\n",
        "\n",
        "---"
      ]
    },
    {
      "cell_type": "markdown",
      "metadata": {
        "id": "7IXUfiQ2UKj6"
      },
      "source": [
        "# Regression 2\n",
        "\n",
        "## Assignment\n",
        "\n",
        "You'll continue to **predict how much it costs to rent an apartment in NYC,** using the dataset from renthop.com.\n",
        "\n",
        "- [ ] Do train/test split. Use data from April & May 2016 to train. Use data from June 2016 to test.\n",
        "- [ ] Engineer at least two new features. (See below for explanation & ideas.)\n",
        "- [ ] Fit a linear regression model with at least two features.\n",
        "- [ ] Get the model's coefficients and intercept.\n",
        "- [ ] Get regression metrics RMSE, MAE, and $R^2$, for both the train and test data.\n",
        "- [ ] What's the best test MAE you can get? Share your score and features used with your cohort on Slack!\n",
        "- [ ] As always, commit your notebook to your fork of the GitHub repo.\n",
        "\n",
        "\n",
        "#### [Feature Engineering](https://en.wikipedia.org/wiki/Feature_engineering)\n",
        "\n",
        "> \"Some machine learning projects succeed and some fail. What makes the difference? Easily the most important factor is the features used.\" — Pedro Domingos, [\"A Few Useful Things to Know about Machine Learning\"](https://homes.cs.washington.edu/~pedrod/papers/cacm12.pdf)\n",
        "\n",
        "> \"Coming up with features is difficult, time-consuming, requires expert knowledge. 'Applied machine learning' is basically feature engineering.\" — Andrew Ng, [Machine Learning and AI via Brain simulations](https://forum.stanford.edu/events/2011/2011slides/plenary/2011plenaryNg.pdf) \n",
        "\n",
        "> Feature engineering is the process of using domain knowledge of the data to create features that make machine learning algorithms work. \n",
        "\n",
        "#### Feature Ideas\n",
        "- Does the apartment have a description?\n",
        "- How long is the description?\n",
        "- How many total perks does each apartment have?\n",
        "- Are cats _or_ dogs allowed?\n",
        "- Are cats _and_ dogs allowed?\n",
        "- Total number of rooms (beds + baths)\n",
        "- Ratio of beds to baths\n",
        "- What's the neighborhood, based on address or latitude & longitude?\n",
        "\n",
        "## Stretch Goals\n",
        "- [ ] If you want more math, skim [_An Introduction to Statistical Learning_](http://faculty.marshall.usc.edu/gareth-james/ISL/ISLR%20Seventh%20Printing.pdf),  Chapter 3.1, Simple Linear Regression, & Chapter 3.2, Multiple Linear Regression\n",
        "- [ ] If you want more introduction, watch [Brandon Foltz, Statistics 101: Simple Linear Regression](https://www.youtube.com/watch?v=ZkjP5RJLQF4)\n",
        "(20 minutes, over 1 million views)\n",
        "- [ ] Add your own stretch goal(s) !"
      ]
    },
    {
      "cell_type": "code",
      "metadata": {
        "id": "o9eSnDYhUGD7"
      },
      "source": [
        "%%capture\n",
        "import sys\n",
        "\n",
        "# If you're on Colab:\n",
        "if 'google.colab' in sys.modules:\n",
        "    DATA_PATH = 'https://raw.githubusercontent.com/LambdaSchool/DS-Unit-2-Applied-Modeling/master/data/'\n",
        "    !pip install category_encoders==2.*\n",
        "\n",
        "# If you're working locally:\n",
        "else:\n",
        "    DATA_PATH = '../data/'\n",
        "    \n",
        "# Ignore this Numpy warning when using Plotly Express:\n",
        "# FutureWarning: Method .ptp is deprecated and will be removed in a future version. Use numpy.ptp instead.\n",
        "import warnings\n",
        "warnings.filterwarnings(action='ignore', category=FutureWarning, module='numpy')"
      ],
      "execution_count": 43,
      "outputs": []
    },
    {
      "cell_type": "code",
      "metadata": {
        "id": "cvrw-T3bZOuW"
      },
      "source": [
        "import numpy as np\n",
        "import pandas as pd\n",
        "\n",
        "# Read New York City apartment rental listing data\n",
        "df = pd.read_csv(DATA_PATH+'apartments/renthop-nyc.csv')\n",
        "assert df.shape == (49352, 34)\n",
        "\n",
        "# Remove the most extreme 1% prices,\n",
        "# the most extreme .1% latitudes, &\n",
        "# the most extreme .1% longitudes\n",
        "df = df[(df['price'] >= np.percentile(df['price'], 0.5)) & \n",
        "        (df['price'] <= np.percentile(df['price'], 99.5)) & \n",
        "        (df['latitude'] >= np.percentile(df['latitude'], 0.05)) & \n",
        "        (df['latitude'] < np.percentile(df['latitude'], 99.95)) &\n",
        "        (df['longitude'] >= np.percentile(df['longitude'], 0.05)) & \n",
        "        (df['longitude'] <= np.percentile(df['longitude'], 99.95))]"
      ],
      "execution_count": 44,
      "outputs": []
    },
    {
      "cell_type": "code",
      "metadata": {
        "id": "-_kAx5KkfTtJ",
        "outputId": "b5bbddcb-ff89-46b3-d5ba-33665cad4aca",
        "colab": {
          "base_uri": "https://localhost:8080/",
          "height": 437
        }
      },
      "source": [
        "df['date'] = pd.to_datetime(df['created'])\n",
        "df.index = df['date']\n",
        "print(df.info)\n",
        "print(df.head())"
      ],
      "execution_count": 45,
      "outputs": [
        {
          "output_type": "stream",
          "text": [
            "<bound method DataFrame.info of                      bathrooms  ...                date\n",
            "date                            ...                    \n",
            "2016-06-24 07:54:24        1.5  ... 2016-06-24 07:54:24\n",
            "2016-06-12 12:19:27        1.0  ... 2016-06-12 12:19:27\n",
            "2016-04-17 03:26:41        1.0  ... 2016-04-17 03:26:41\n",
            "2016-04-18 02:22:02        1.0  ... 2016-04-18 02:22:02\n",
            "2016-04-28 01:32:41        1.0  ... 2016-04-28 01:32:41\n",
            "...                        ...  ...                 ...\n",
            "2016-06-02 05:41:05        1.0  ... 2016-06-02 05:41:05\n",
            "2016-04-04 18:22:34        1.0  ... 2016-04-04 18:22:34\n",
            "2016-04-16 02:13:40        1.0  ... 2016-04-16 02:13:40\n",
            "2016-04-08 02:13:33        1.0  ... 2016-04-08 02:13:33\n",
            "2016-04-12 02:48:07        1.0  ... 2016-04-12 02:48:07\n",
            "\n",
            "[48817 rows x 35 columns]>\n",
            "                     bathrooms  ...                date\n",
            "date                            ...                    \n",
            "2016-06-24 07:54:24        1.5  ... 2016-06-24 07:54:24\n",
            "2016-06-12 12:19:27        1.0  ... 2016-06-12 12:19:27\n",
            "2016-04-17 03:26:41        1.0  ... 2016-04-17 03:26:41\n",
            "2016-04-18 02:22:02        1.0  ... 2016-04-18 02:22:02\n",
            "2016-04-28 01:32:41        1.0  ... 2016-04-28 01:32:41\n",
            "\n",
            "[5 rows x 35 columns]\n"
          ],
          "name": "stdout"
        }
      ]
    },
    {
      "cell_type": "code",
      "metadata": {
        "id": "f3Kj9-GmfV9-",
        "outputId": "3be440cc-3ee3-497c-996d-f157b41f57b1",
        "colab": {
          "base_uri": "https://localhost:8080/",
          "height": 999
        }
      },
      "source": [
        "X = df[['bedrooms', 'bathrooms']]\n",
        "y = df['price']\n",
        "\n",
        "mask = X.index.month < 6\n",
        "\n",
        "X_train = X[mask]\n",
        "y_train = y[mask]\n",
        "X_test = X[~mask]\n",
        "y_test = y[~mask]\n",
        "\n",
        "print(X_train)\n",
        "print(y_train)\n",
        "print(X_test)\n",
        "print(y_test)"
      ],
      "execution_count": 52,
      "outputs": [
        {
          "output_type": "stream",
          "text": [
            "                     bedrooms  bathrooms\n",
            "date                                    \n",
            "2016-04-17 03:26:41         1        1.0\n",
            "2016-04-18 02:22:02         1        1.0\n",
            "2016-04-28 01:32:41         4        1.0\n",
            "2016-04-19 04:24:47         4        2.0\n",
            "2016-04-27 03:19:56         2        1.0\n",
            "...                       ...        ...\n",
            "2016-04-22 15:44:11         1        1.0\n",
            "2016-04-04 18:22:34         1        1.0\n",
            "2016-04-16 02:13:40         1        1.0\n",
            "2016-04-08 02:13:33         0        1.0\n",
            "2016-04-12 02:48:07         2        1.0\n",
            "\n",
            "[31844 rows x 2 columns]\n",
            "date\n",
            "2016-04-17 03:26:41    2850\n",
            "2016-04-18 02:22:02    3275\n",
            "2016-04-28 01:32:41    3350\n",
            "2016-04-19 04:24:47    7995\n",
            "2016-04-27 03:19:56    3600\n",
            "                       ... \n",
            "2016-04-22 15:44:11    4500\n",
            "2016-04-04 18:22:34    3950\n",
            "2016-04-16 02:13:40    2595\n",
            "2016-04-08 02:13:33    3350\n",
            "2016-04-12 02:48:07    2200\n",
            "Name: price, Length: 31844, dtype: int64\n",
            "                     bedrooms  bathrooms\n",
            "date                                    \n",
            "2016-06-24 07:54:24         3        1.5\n",
            "2016-06-12 12:19:27         2        1.0\n",
            "2016-06-03 03:21:22         1        1.0\n",
            "2016-06-01 03:11:01         1        1.0\n",
            "2016-06-07 04:39:56         4        2.0\n",
            "...                       ...        ...\n",
            "2016-06-16 04:20:46         2        1.0\n",
            "2016-06-21 06:25:35         3        1.0\n",
            "2016-06-02 13:24:18         1        1.0\n",
            "2016-06-06 01:22:44         2        1.0\n",
            "2016-06-02 05:41:05         2        1.0\n",
            "\n",
            "[16973 rows x 2 columns]\n",
            "date\n",
            "2016-06-24 07:54:24    3000\n",
            "2016-06-12 12:19:27    5465\n",
            "2016-06-03 03:21:22    1675\n",
            "2016-06-01 03:11:01    3050\n",
            "2016-06-07 04:39:56    7400\n",
            "                       ... \n",
            "2016-06-16 04:20:46    2295\n",
            "2016-06-21 06:25:35    3995\n",
            "2016-06-02 13:24:18    2727\n",
            "2016-06-06 01:22:44    4850\n",
            "2016-06-02 05:41:05    3200\n",
            "Name: price, Length: 16973, dtype: int64\n"
          ],
          "name": "stdout"
        }
      ]
    },
    {
      "cell_type": "code",
      "metadata": {
        "id": "c6sqFJKflCv3",
        "outputId": "d9345082-ee5c-464c-86b6-178c5023c20a",
        "colab": {
          "base_uri": "https://localhost:8080/",
          "height": 51
        }
      },
      "source": [
        "from sklearn.linear_model import LinearRegression\n",
        "\n",
        "model = LinearRegression()\n",
        "\n",
        "model.fit(X_train, y_train)\n",
        "\n",
        "print(model.coef_)\n",
        "print(model.intercept_)"
      ],
      "execution_count": 47,
      "outputs": [
        {
          "output_type": "stream",
          "text": [
            "[ 389.3248959  2072.61011639]\n",
            "485.71869002322273\n"
          ],
          "name": "stdout"
        }
      ]
    },
    {
      "cell_type": "code",
      "metadata": {
        "id": "26rp5G6tnoIR",
        "outputId": "ae5790de-012e-4569-c3fe-e4c06356a3e8",
        "colab": {
          "base_uri": "https://localhost:8080/",
          "height": 51
        }
      },
      "source": [
        "print('Train R squared value:', model.score(X_train, y_train))\n",
        "print('Test R squared value:', model.score(X_test, y_test))"
      ],
      "execution_count": 48,
      "outputs": [
        {
          "output_type": "stream",
          "text": [
            "Train R squared value: 0.5111543084316605\n",
            "Test R squared value: 0.5213303957090346\n"
          ],
          "name": "stdout"
        }
      ]
    },
    {
      "cell_type": "code",
      "metadata": {
        "id": "bNJ5ETwOo1UH",
        "outputId": "74c41888-7204-464e-a431-36fa8d5e6b47",
        "colab": {
          "base_uri": "https://localhost:8080/",
          "height": 104
        }
      },
      "source": [
        "from sklearn.metrics import mean_absolute_error, mean_squared_error\n",
        "\n",
        "print('Train MAE:', mean_absolute_error(y_train, model.predict(X_train)))\n",
        "print('Test MAE:', mean_absolute_error(y_test, model.predict(X_test)))\n",
        "print()\n",
        "print('Train RMSE:', mean_squared_error(y_train, model.predict(X_train), squared=False))\n",
        "print('Test RMSE:', mean_squared_error(y_test, model.predict(X_test), squared=False))"
      ],
      "execution_count": 50,
      "outputs": [
        {
          "output_type": "stream",
          "text": [
            "Train MAE: 818.5310213271714\n",
            "Test MAE: 825.8987822403527\n",
            "\n",
            "Train RMSE: 1232.0225917223486\n",
            "Test RMSE: 1219.719357233823\n"
          ],
          "name": "stdout"
        }
      ]
    },
    {
      "cell_type": "code",
      "metadata": {
        "id": "0BRKwLK3riOs"
      },
      "source": [
        ""
      ],
      "execution_count": 49,
      "outputs": []
    }
  ]
}